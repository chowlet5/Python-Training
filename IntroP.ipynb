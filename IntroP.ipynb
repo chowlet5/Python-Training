{
  "nbformat": 4,
  "nbformat_minor": 0,
  "metadata": {
    "colab": {
      "provenance": [],
      "collapsed_sections": [
        "5jj2oADSl8YB",
        "bzCiBOU064YU"
      ],
      "authorship_tag": "ABX9TyO06N3hjKf4p7DWpPn4ZbMl",
      "include_colab_link": true
    },
    "kernelspec": {
      "name": "python3",
      "display_name": "Python 3"
    }
  },
  "cells": [
    {
      "cell_type": "markdown",
      "metadata": {
        "id": "view-in-github",
        "colab_type": "text"
      },
      "source": [
        "<a href=\"https://colab.research.google.com/github/chowlet5/Python-Training/blob/main/IntroP.ipynb\" target=\"_parent\"><img src=\"https://colab.research.google.com/assets/colab-badge.svg\" alt=\"Open In Colab\"/></a>"
      ]
    },
    {
      "cell_type": "markdown",
      "metadata": {
        "id": "2BAQ-_d4ZIwY"
      },
      "source": [
        "#Introduction to Python\n",
        "\n",
        "\n",
        "---\n",
        "##Topics for Today:\n",
        "\n",
        "###1. Background\n",
        "###2. Installation and Setup\n",
        "###3. Programming IDE\n",
        "###4. Python Syntax\n",
        "###5. Useful Libraries\n",
        "###6. Example Scripts\n",
        "\n",
        "\n",
        "\n"
      ]
    },
    {
      "cell_type": "markdown",
      "metadata": {
        "id": "QiF94fejtlpj"
      },
      "source": [
        "# Background\n",
        "\n",
        "Python is a popular programming language with a wide range of use cases, such as mathematics and system scripting.\n",
        "\n",
        "Python is an interpreter language, meaning the code is execute without previously compiling the program. The syntax for Python has been developed to easy to understand and read. This allows developers to write programs using less lines of code.\n",
        "\n",
        "When should you consider using Python?\n",
        "\n",
        "\n",
        "\n",
        "*   When interacting with large datasets or database.\n",
        "*   When developing prototype code quickly.\n",
        "*   When automating workflows or processes (API integration).\n",
        "\n",
        "\n",
        "When should you not consider using Python?\n",
        " *   When speed is important. Python is slow compared to complied languages.\n",
        " *   When a small memory footprint is required.\n",
        "\n",
        "##Python Versions\n",
        "\n",
        "There are two main version of Python: Python 2 and Python 3.\n",
        "\n",
        "Python 2 is the legacy version which is not longer maintained and will not receive any future updates.\n",
        "\n",
        "Python 3 is the current version of Plathform which is the focus of development. The most current version of Python 3 is Python 3.8.1.\n",
        "\n",
        "\n",
        "\n",
        "\n",
        "\n"
      ]
    },
    {
      "cell_type": "markdown",
      "metadata": {
        "id": "KPMt3TIilqbL"
      },
      "source": [
        "# Installation and Setup"
      ]
    },
    {
      "cell_type": "markdown",
      "metadata": {
        "id": "qt7xXKUm0aik"
      },
      "source": [
        "##Python of Windows\n",
        "\n",
        "![Python Logo](https://www.python.org/static/img/python-logo.png)\n",
        "\n",
        "Python can be install from Python Software Foundation (https://www.python.org/downloads/). This allows you to setup your own work environment from scratch.\n",
        "\n",
        "![Python Logo](data:image/png;base64,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)\n",
        "\n",
        "Anaconda is a Python (and R) distribution for data science application. The version of Python install by Anaconda comes preloaded with major Python libraries such as numpy and pandas. The Anaconda installer can be found on the anaconda website (https://www.anaconda.com/distribution/)."
      ]
    },
    {
      "cell_type": "markdown",
      "metadata": {
        "id": "odRsuQcOV091"
      },
      "source": [
        "The Anaconda installtion include the Anaconda Navigator, a graphical interface to manage your Python environments and other tools."
      ]
    },
    {
      "cell_type": "markdown",
      "metadata": {
        "id": "74K3adbF0TwL"
      },
      "source": [
        "##Installing Libraries using `pip`\n",
        "\n",
        "`pip` is the prefered installer program for Python. Starting with Python 3.4, pip has been included by defaultwutg Python binary installers. The pip installer access the Python Packaging Index (https://pypi.org/), a public repository of open source licensed packages when installing packages.\n",
        "\n",
        "The following section cover the general method used to install packages on Python. If you are using Anaconda, there are additional tools which can be used."
      ]
    },
    {
      "cell_type": "markdown",
      "metadata": {
        "id": "xuSAtu9F5UlO"
      },
      "source": [
        "###Installing modules\n",
        "\n",
        "Running the following command in the command prompt will install the latest version of a module and its dependencies from the Python Packaging Index:\n",
        "\n",
        "`python -m pip install SomePackage`\n",
        "\n",
        "Note: If you are using Windows, you need to adjust your system PATH environment variable to include Python. This is an option when installing Python.\n",
        "\n",
        "If you want to specify a minimum version or an exact version, you can use comparator operators such as <, >.\n",
        "\n",
        "`python -m pip install SomePackage==1.0.4` for specific version.\n",
        "\n",
        "`python -m pip install \"SomePackage>=1.0.4\"` for minumum version.\n",
        "\n",
        "If you have the module already installed, you can upgraded using the following command:\n",
        "\n",
        "`python -m pip install --upgrade SomePackage`\n",
        "\n",
        "If you are working with a pre-existing Python program, you may need to install multiple modules. `requirement.txt` files are common method of storing the dependencies required for a program.\n"
      ]
    },
    {
      "cell_type": "markdown",
      "metadata": {
        "id": "rFZoWad9_A1S"
      },
      "source": [
        "###Requirements.txt Files\n",
        "You can install modules listed in a requirements.txt file using the following command:\n",
        "\n",
        "`python -m pip install -r requirements.txt`\n",
        "\n",
        "Note that the requirements.txt file has to be in the current working directory.\n",
        "\n",
        "To create a requirements.txt file, use the following command:\n",
        "\n",
        "`python -m pip freeze > requirements.txt`"
      ]
    },
    {
      "cell_type": "markdown",
      "metadata": {
        "id": "E9bqg5SFAQo6"
      },
      "source": [
        "###Other Useful Commands\n",
        "\n",
        "####Uninstalling Packages:\n",
        " You can uninstall packages using:\n",
        "\n",
        " `python -m pip uninstall SomePackage`\n",
        "\n",
        "####Listing Packages:\n",
        " You can list the installed packages using:\n",
        "\n",
        " `python -m pip list`\n",
        "\n",
        "Additional information/commands can be found on the pip documentation website (https://pip.pypa.io/en/stable/user_guide/).\n"
      ]
    },
    {
      "cell_type": "markdown",
      "metadata": {
        "id": "v6kDlNBiCZuj"
      },
      "source": [
        "##Installing Libraries using Conda\n",
        "\n",
        "Anaconda provides a different tool for installing packages which works similar to `pip`. The tool is called `conda`. The `conda` retrieves the modules from Anaconda public repository (https://anaconda.org/anaconda/repo). Each entry into the repository include documentation and the command to install the package."
      ]
    },
    {
      "cell_type": "markdown",
      "metadata": {
        "id": "ud7hM7G_yrcW"
      },
      "source": [
        "##Virtual Environments\n",
        "\n",
        "Before starting a project, it is best to create a virtual environment. A virutal environment is a isolated enviroment for your Python project. Using virtual environment keeps your required dependencies separate from other projects. This is especially useful if you are using different version of Python or a Python library."
      ]
    },
    {
      "cell_type": "markdown",
      "metadata": {
        "id": "OKBvBXCo0Cyw"
      },
      "source": [
        "###Creating Virtual Environments with `venv`\n",
        "\n",
        "If you are using Python, `venv` is the library you will likely use. `venv` is typically installed with Python 3. To create a virtual environment, first decide which directory you would like to place it. Once decided, run the `venv` module as a script with the directory path:\n",
        "\n",
        "`python -m venv path\\to\\directory\\env-name`\n",
        "\n",
        "This will create the `env-name` directory if it doesn't exisit and will also create directories inside it containing a copy of the Python interpreter, the standard library and various support files.\n",
        "\n",
        "Once you create a virtual environment, you can activate it. For Windows, run the following script in the command prompt:\n",
        "\n",
        "`path\\to\\directory\\env-name\\Scripts\\activate.bat`\n",
        "\n",
        "For Unix or MacOS, run:\n",
        "\n",
        "`source path/to/directory/env-name/bin/activate`\n",
        "\n",
        "Once activated, any package installed will be placed with the current virtual environment.\n"
      ]
    },
    {
      "cell_type": "markdown",
      "metadata": {
        "id": "uC2LwP56gxTE"
      },
      "source": [
        "###Creating Virtual Environments with `conda`\n",
        "\n",
        "\n",
        "If you are using Anaconda, `conda` is the library you will likely use to manage your virutal environment. In addition to the terminal/Anaconda prompt, you can use the Anaconda Navigator GUI to add modules to environments. To create an environment using the terminal/Anaconda Prompt:\n",
        "\n",
        "`conda create --name myenv`\n",
        "\n",
        "Follow in prompt instructions to create the virtual environment.\n",
        "\n",
        "The default location for your environments is the `envs` directory in your conda directory. After running the command, you will have a new enviroment under the name `myenv`.\n",
        "\n",
        "After creating the enviroment, you need to activate it in order to work within it. To activate the environment from the Anaconda Prompt, run:\n",
        "\n",
        "`conda activate myenv`\n",
        "\n",
        "\n",
        "Once activated, you can install your modules.\n",
        "\n",
        "This is one of the many ways to work with environments when using Anaconda. I recommend looking through the documentation provide be Anaconda (see link below).\n",
        "\n",
        "For more information, visit the conda guide covering environments: https://docs.conda.io/projects/conda/en/latest/user-guide/tasks/manage-environments.html"
      ]
    },
    {
      "cell_type": "markdown",
      "metadata": {
        "id": "2C2B39sWlN5S"
      },
      "source": [
        "# Python IDEs\n",
        "\n",
        "Integrated development environments (IDE) are software application used for the software development. There are many different platform which can be used to create Python scripts. The following list is just a handful of the options."
      ]
    },
    {
      "cell_type": "markdown",
      "metadata": {
        "id": "5jj2oADSl8YB"
      },
      "source": [
        "## Visual Studio Code\n",
        "\n",
        "Visual Studio Code is a code editor developed by Microsoft for Windows, Linux and macOS. It includes support for debugging, Git control, syntax highlighting and code reactoring. VS Code is highly customizable, allowing users to change theme, shortcuts, preferences and install extensions which adds addtional functionality. Visual Studio Code is free and open source. You can download from https://code.visualstudio.com/.\n",
        "\n",
        "![VS Code](data:image/png;base64,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)\n"
      ]
    },
    {
      "cell_type": "markdown",
      "metadata": {
        "id": "_jjSYqQWn_AF"
      },
      "source": [
        "If you plan on using Visual Studio Code for Python Development, you should to install the Microsoft Python extension. The extension bring many features which are useful for Python. You can find more information about using Python in Visual Studio Code from https://code.visualstudio.com/docs/languages/python.\n",
        "\n",
        "Additionally, these are a couple of the extension I have installed on my Visual Studio code:\n",
        "\n",
        "* [Better Comments](https://marketplace.visualstudio.com/items?itemName=aaron-bond.better-comments)\n",
        "* [Bracket Pair Colorizer](https://marketplace.visualstudio.com/items?itemName=CoenraadS.bracket-pair-colorizer)\n",
        "\n",
        "Additional Information can be found: https://code.visualstudio.com/ and https://marketplace.visualstudio.com/"
      ]
    },
    {
      "cell_type": "markdown",
      "metadata": {
        "id": "wgxL_9Dsqckp"
      },
      "source": [
        "## PyCharm\n",
        "\n",
        "Pycharm is a IDE which has been develop for Python. It contains alot of similar features to Visual Studio Code, however they are designed for Python. There are two version: the open-source Community Edition and the subscription based Professional Edition. The Professional Edition provide additional tools for web frameworks, scientific computing and remote development. PyCharm can be download from https://www.jetbrains.com/pycharm/.\n",
        "\n",
        "![](data:image/jpeg;base64,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)"
      ]
    },
    {
      "cell_type": "markdown",
      "metadata": {
        "id": "q-iEstP7s4dT"
      },
      "source": [
        "## Spyder\n",
        "\n",
        "Spyder is a scientific Python IDE wriiten in Python. It has been design to be used by scientist, engineers and data analysts. Spyder contains similar features to Matlab, such as variable exploration, debugger and IPython console. Spyder is part of the Anaconda distribution and can be install through the Anaconda Navigator.\n",
        "\n",
        "![](https://raw.githubusercontent.com/spyder-ide/spyder/master/img_src/spyder_readme_banner.png)"
      ]
    },
    {
      "cell_type": "markdown",
      "metadata": {
        "id": "VPaAV4T_vNT8"
      },
      "source": [
        "##Juypter Notebook and Juypter Lab\n",
        "\n",
        "Jupyter Notebook is a server-client application that allows editing and ruuning notebooks documents via a web browser. These notebooks combine both computer code (Python or R) and text elements. The current document is an example of a notebook document.\n",
        "\n",
        "\n",
        "Jupyter Lab is a new version of the Jupyter Notebook app. It contains all the features of the Notebooks but brings additional flexiblity and an improved user inferface.\n",
        "\n",
        "Jupyter Notebooks are design for interactive coding and work well prototyping. The interactive nature of notebooks supports a wide range of workflows in data science, scientific compution and machine learning.  "
      ]
    },
    {
      "cell_type": "markdown",
      "metadata": {
        "id": "TveY3cko1pAX"
      },
      "source": [
        "\n",
        "\n",
        "\n",
        "Jupyter Lab can be install using the Anaconda Distribution or using the following command\n",
        "\n",
        "`python -m pip install jupyterlab`\n",
        "\n",
        "Once install, you can run Jupyter Lab using the command:\n",
        "\n",
        "`jupyter lab`\n",
        "\n",
        "![](data:image/png;base64,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)\n",
        "\n"
      ]
    },
    {
      "cell_type": "markdown",
      "metadata": {
        "id": "ksIMs1dZ2hNp"
      },
      "source": [
        "Juypter Lab/Notebooks also support different interactive widgets, expanding the ways to display data. The documentation of these widgets can be found at https://jupyter.org/widgets.\n",
        "\n",
        "For examples of different notebooks, you can go to https://nbviewer.jupyter.org/."
      ]
    },
    {
      "cell_type": "markdown",
      "metadata": {
        "id": "CTmnyPfj4d4b"
      },
      "source": [
        "# Python Syntax\n",
        "\n",
        "Python has been develop to be easy to read and understand. The syntax plays an important role in this."
      ]
    },
    {
      "cell_type": "markdown",
      "metadata": {
        "id": "5Q-DQcyn5D_0"
      },
      "source": [
        "##Python Indentation\n",
        "\n",
        "Indentation refers to the space at the beginning of a code line. Typically, indentation in code is used for readability only. However, Python uses indentation to indicate a block of code\n",
        "\n",
        "Example:"
      ]
    },
    {
      "cell_type": "code",
      "metadata": {
        "id": "YxXa06_85kUM",
        "colab": {
          "base_uri": "https://localhost:8080/",
          "height": 34
        },
        "outputId": "22efd537-82ef-4500-c39a-799c6e65659d"
      },
      "source": [
        "if 5 > 2:\n",
        " print(\"True\")"
      ],
      "execution_count": null,
      "outputs": [
        {
          "output_type": "stream",
          "text": [
            "True\n"
          ],
          "name": "stdout"
        }
      ]
    },
    {
      "cell_type": "markdown",
      "metadata": {
        "id": "HIdySeP85s1F"
      },
      "source": [
        "Skipping the indentation will result in an error"
      ]
    },
    {
      "cell_type": "code",
      "metadata": {
        "id": "moZl1yby5ymW",
        "colab": {
          "base_uri": "https://localhost:8080/",
          "height": 51
        },
        "outputId": "2a3d0cde-ede9-45ce-b752-23ccb9e073e6"
      },
      "source": [
        "if 5 > 2:\n",
        "  print('False')\n",
        "print(\"True\")"
      ],
      "execution_count": null,
      "outputs": [
        {
          "output_type": "stream",
          "text": [
            "False\n",
            "True\n"
          ],
          "name": "stdout"
        }
      ]
    },
    {
      "cell_type": "markdown",
      "metadata": {
        "id": "d28aB0o351Nz"
      },
      "source": [
        "The number of spaces does not matter(typically 4 spaces are used)."
      ]
    },
    {
      "cell_type": "code",
      "metadata": {
        "id": "sEEZtEQ96C5_",
        "colab": {
          "base_uri": "https://localhost:8080/",
          "height": 51
        },
        "outputId": "7ce58e16-6bdc-49e2-e40b-e6f274ac8ac3"
      },
      "source": [
        "if 5 > 2:\n",
        " print(\"True\")\n",
        "if 5 > 2:\n",
        "    print(\"True\")"
      ],
      "execution_count": null,
      "outputs": [
        {
          "output_type": "stream",
          "text": [
            "True\n",
            "True\n"
          ],
          "name": "stdout"
        }
      ]
    },
    {
      "cell_type": "markdown",
      "metadata": {
        "id": "L4diwRAG6bsi"
      },
      "source": [
        "You have to use the same number of spaces in the same code block, otherwise Python will give you an error:"
      ]
    },
    {
      "cell_type": "code",
      "metadata": {
        "id": "eTTpIUfC6mQo",
        "colab": {
          "base_uri": "https://localhost:8080/",
          "height": 129
        },
        "outputId": "20803258-1935-4964-fcac-966121d07f65"
      },
      "source": [
        "if 5 > 2:\n",
        "    print(\"True\")\n",
        "      print(\"True\")"
      ],
      "execution_count": null,
      "outputs": [
        {
          "output_type": "error",
          "ename": "IndentationError",
          "evalue": "ignored",
          "traceback": [
            "\u001b[0;36m  File \u001b[0;32m\"<ipython-input-9-b1bb9e41a7b3>\"\u001b[0;36m, line \u001b[0;32m3\u001b[0m\n\u001b[0;31m    print(\"True\")\u001b[0m\n\u001b[0m    ^\u001b[0m\n\u001b[0;31mIndentationError\u001b[0m\u001b[0;31m:\u001b[0m unexpected indent\n"
          ]
        }
      ]
    },
    {
      "cell_type": "markdown",
      "metadata": {
        "id": "bzCiBOU064YU"
      },
      "source": [
        "##Comments\n",
        "\n",
        "Comments are indicated with a `#`.\n"
      ]
    },
    {
      "cell_type": "code",
      "metadata": {
        "id": "YYNgl5pa7lCD",
        "colab": {
          "base_uri": "https://localhost:8080/",
          "height": 34
        },
        "outputId": "286fe4ad-7c3a-4ddb-d084-e94ea725c030"
      },
      "source": [
        "#This is a comment\n",
        "print('Hello, World!')"
      ],
      "execution_count": null,
      "outputs": [
        {
          "output_type": "stream",
          "text": [
            "Hello, World!\n"
          ],
          "name": "stdout"
        }
      ]
    },
    {
      "cell_type": "markdown",
      "metadata": {
        "id": "sjqM3Dnj7uc_"
      },
      "source": [
        "Comments can be placed after a line of code."
      ]
    },
    {
      "cell_type": "code",
      "metadata": {
        "id": "hBgbgbNd71a8"
      },
      "source": [
        "print('Hello, World!') #This is a comment"
      ],
      "execution_count": null,
      "outputs": []
    },
    {
      "cell_type": "markdown",
      "metadata": {
        "id": "m8tqFMU78RV-"
      },
      "source": [
        "Multi Line Comments are not supported in a elegant way. You can use a multi line string to act as a multi line comment. Multi string are indicated by the triple quote (\"\"\")."
      ]
    },
    {
      "cell_type": "code",
      "metadata": {
        "id": "5v3fACRY9d3g",
        "colab": {
          "base_uri": "https://localhost:8080/",
          "height": 34
        },
        "outputId": "dc19e7da-2771-4017-ecf5-d26b5684a642"
      },
      "source": [
        "\"\"\"\n",
        "This is a comment\n",
        "written in\n",
        "more than just one line\n",
        "\"\"\"\n",
        "print(\"Hello, World!\")"
      ],
      "execution_count": null,
      "outputs": [
        {
          "output_type": "stream",
          "text": [
            "Hello, World!\n"
          ],
          "name": "stdout"
        }
      ]
    },
    {
      "cell_type": "markdown",
      "metadata": {
        "id": "R5KVZiYo971w"
      },
      "source": [
        "## Importing Modules\n",
        "\n",
        "Before you can use a function from a module in Python, you need to load it. Loading a module is done by using the `import` command."
      ]
    },
    {
      "cell_type": "code",
      "metadata": {
        "id": "McxLOlr_-8oL",
        "colab": {
          "base_uri": "https://localhost:8080/",
          "height": 34
        },
        "outputId": "17b1d01e-b4b0-40b5-ac17-983c44cbefaf"
      },
      "source": [
        "import random\n",
        "\n",
        "random.random()"
      ],
      "execution_count": null,
      "outputs": [
        {
          "output_type": "execute_result",
          "data": {
            "text/plain": [
              "0.24237629593558685"
            ]
          },
          "metadata": {
            "tags": []
          },
          "execution_count": 12
        }
      ]
    },
    {
      "cell_type": "markdown",
      "metadata": {
        "id": "78GRYbkQ_QK6"
      },
      "source": [
        "Sometime you may only need a single function from a module. If that is the case, you can import a function from a module using the `from` function."
      ]
    },
    {
      "cell_type": "code",
      "metadata": {
        "id": "NOUnFFCY_pUW",
        "colab": {
          "base_uri": "https://localhost:8080/",
          "height": 34
        },
        "outputId": "09631d85-6eff-4e71-90b1-edc5c0f49e7f"
      },
      "source": [
        "from math import sqrt\n",
        "\n",
        "x = 4\n",
        "\n",
        "sqrt(x)"
      ],
      "execution_count": null,
      "outputs": [
        {
          "output_type": "execute_result",
          "data": {
            "text/plain": [
              "2.0"
            ]
          },
          "metadata": {
            "tags": []
          },
          "execution_count": 11
        }
      ]
    },
    {
      "cell_type": "markdown",
      "metadata": {
        "id": "BBsFqm7q_645"
      },
      "source": [
        "During the importing phase, Python allows you to bind the module to a local name. This is common is the module name is length or to avoid name clashing. The `as` clause will rebind the first term to the second term name."
      ]
    },
    {
      "cell_type": "code",
      "metadata": {
        "id": "qxdfSKVSAsu8",
        "colab": {
          "base_uri": "https://localhost:8080/",
          "height": 51
        },
        "outputId": "31dc3c01-b8e8-49c0-dde5-f86261d5eb0b"
      },
      "source": [
        "import numpy\n",
        "\n",
        "numpy.zeros((2,3))"
      ],
      "execution_count": null,
      "outputs": [
        {
          "output_type": "execute_result",
          "data": {
            "text/plain": [
              "array([[0., 0., 0.],\n",
              "       [0., 0., 0.]])"
            ]
          },
          "metadata": {
            "tags": []
          },
          "execution_count": 13
        }
      ]
    },
    {
      "cell_type": "code",
      "metadata": {
        "id": "fnEw-2xeAkBp",
        "colab": {
          "base_uri": "https://localhost:8080/",
          "height": 51
        },
        "outputId": "c0b9709a-122c-4980-ff1a-63d35eb6140c"
      },
      "source": [
        "import numpy as np\n",
        "\n",
        "np.zeros((2,3))"
      ],
      "execution_count": null,
      "outputs": [
        {
          "output_type": "execute_result",
          "data": {
            "text/plain": [
              "array([[0., 0., 0.],\n",
              "       [0., 0., 0.]])"
            ]
          },
          "metadata": {
            "tags": []
          },
          "execution_count": 12
        }
      ]
    },
    {
      "cell_type": "markdown",
      "metadata": {
        "id": "MYUWc0A9paX7"
      },
      "source": [
        "Each of the functions states above can be used together in a single line."
      ]
    },
    {
      "cell_type": "code",
      "metadata": {
        "id": "xBGkFIPtp_AH",
        "colab": {
          "base_uri": "https://localhost:8080/",
          "height": 34
        },
        "outputId": "e82012a2-9e9b-4e01-e3cb-ccbe6f1a7021"
      },
      "source": [
        "from random import random as rd\n",
        "\n",
        "rd()"
      ],
      "execution_count": null,
      "outputs": [
        {
          "output_type": "execute_result",
          "data": {
            "text/plain": [
              "0.7953205793449913"
            ]
          },
          "metadata": {
            "tags": []
          },
          "execution_count": 1
        }
      ]
    },
    {
      "cell_type": "markdown",
      "metadata": {
        "id": "_N3jewPyw5hh"
      },
      "source": [
        "## Creating Functions\n",
        "\n",
        " A function can be defined using the `def` keyword."
      ]
    },
    {
      "cell_type": "code",
      "metadata": {
        "id": "mv1kkpxzyQaI"
      },
      "source": [
        "def my_function():\n",
        "  print(\"This is my function\")"
      ],
      "execution_count": null,
      "outputs": []
    },
    {
      "cell_type": "code",
      "metadata": {
        "id": "rG2rzzT06yLJ",
        "colab": {
          "base_uri": "https://localhost:8080/",
          "height": 34
        },
        "outputId": "1d5b7f25-a6e2-4fac-9692-51c11d2481e3"
      },
      "source": [
        "my_function()"
      ],
      "execution_count": null,
      "outputs": [
        {
          "output_type": "stream",
          "text": [
            "This is my function\n"
          ],
          "name": "stdout"
        }
      ]
    },
    {
      "cell_type": "markdown",
      "metadata": {
        "id": "lvFMwFdvDI3p"
      },
      "source": [
        "# Useful Libraries\n",
        "\n",
        "Python growth in popularity has lead to the development of a wide range of libraries. The application of these libraries ranges from machine learning and data processing to  to image manipulation"
      ]
    },
    {
      "cell_type": "markdown",
      "metadata": {
        "id": "pNosOC9bmdzF"
      },
      "source": [
        "## Built-in Python Libraries\n",
        "\n",
        "Python comes with some built-in libraries pre installed. Some of the commonly used libraries include the following:\n",
        "\n",
        "1. [os](https://docs.python.org/3/library/os.html): The `os` module provides a way for Python to interact with the operating system. Common functionality includes file path manipulation, folder creation or opening and writing files.\n",
        "\n",
        "2. [Subprocess](https://docs.python.org/3.5/library/subprocess.html): The `subprocess` module was added as a built-in library for Python version 3.5 or later. The subprocess allows Python to create new processes, connecting them using various pipes. This library is useful for automating procedures such as linking terminal commands or running jobs on SharcNET/SciNET.\n",
        "\n",
        "3. [Math](https://docs.python.org/3/library/math.html): The `math` module includes trigonometric functions, representation functions, logarithmic functions, angle conversion functions, etc\n",
        "\n",
        "3. [Random](https://pandas.pydata.org/): The `random` module implements different pseudo-random number generators.\n",
        "\n",
        "3. [Multiprocessing](https://pandas.pydata.org/): The `multiprocessing` package is designed to spawn processes to parallel a problem. This library speeds up code which consists of independent task which can be performed simultaneously. Typical examples include \"batch work\".\n",
        "\n",
        "\n"
      ]
    },
    {
      "cell_type": "markdown",
      "metadata": {
        "id": "5K3Zv6LHidY1"
      },
      "source": [
        "## Scientific Computing and Data Analysis\n",
        "\n",
        "Python a number of libraries which are used to process and analysis data. These include the following:\n",
        "\n",
        "1. [NumPy](https://numpy.org/doc/): A fundamental package used for scientific computing with Python. NumPy is typically used for matrix and n-array manipulation, allowing the user to perform math operations on arrays. The core of NumPy is based on C, allowing the functions to run quicker than typical Python code. NumPy should be used in cases where the process can be vectorized as it leads to performance improvements.  \n",
        "\n",
        "2. [SciPy](https://scipy.org/scipylib/): A package used for scientific computing with Python. Built upon NumPy, SciPy offers functions for many different applications such as numerical optimization, integration and statistics.\n",
        "\n",
        "3. [Pandas](https://pandas.pydata.org/): Pandas is generally used to manipulate data using operations such as filtering, replacing or joining. Pandas can import data from various file formats such as csv, excel worksheets, text. A common used for Pandas is to pre-process data for machine learning applications."
      ]
    },
    {
      "cell_type": "markdown",
      "metadata": {
        "id": "Ab1FajmmFOa-"
      },
      "source": [
        "## Machine Learning\n",
        "\n",
        "Python has mulitple machine learning (ML) libraries modules available:\n",
        "\n",
        "1. [TensorFlow](https://www.tensorflow.org/): `TensorFlow` is a designed by Google for the creation of machine learning models. The library provide mutiple tools for the for the development of deep neural networks and is used many ML cases such as image, text and speech recognition.  \n",
        "\n",
        "2. [Keras](https://keras.io/): `Keras` provided users with the tools required to build neural networks. Keras has been implemented within Tensorflow to improve the usability of Tensorflow.\n",
        "\n",
        "3. [PyTorch](https://pytorch.org/): `PyTorch` is a machine learning library created by Facebook for Python. PyTorch has a simple to use API which simple to learn for users.  \n",
        "\n",
        "4. [Scikit-Learn](https://scikit-learn.org/stable/): `Scikit-Learn` contains various features to solve classification, regression, clustering problems. Other useful tools include model selection and preprocessing tools."
      ]
    },
    {
      "cell_type": "markdown",
      "metadata": {
        "id": "m2Knzd4HV1LO"
      },
      "source": [
        "## Visualization\n",
        "\n",
        "\n",
        "1. [Matplotlib](https://matplotlib.org/): `Matplotlib` is the first visualization library used for plotting in Python. It has been widely used and has lots of support. Matplotlib is consider to be powerful tool but can be difficult to use.\n",
        "\n",
        "  \n",
        "\n",
        "\n",
        "\n"
      ]
    },
    {
      "cell_type": "code",
      "metadata": {
        "id": "H4V2wbUdam-p",
        "colab": {
          "base_uri": "https://localhost:8080/",
          "height": 301
        },
        "outputId": "3878b687-64b4-4d49-fb1f-8aff00d82864"
      },
      "source": [
        "import numpy as np\n",
        "import matplotlib.pyplot as plt\n",
        "\n",
        "\n",
        "x1 = np.linspace(0.0, 5.0)\n",
        "x2 = np.linspace(0.0, 2.0)\n",
        "\n",
        "y1 = np.cos(2 * np.pi * x1) * np.exp(-x1)\n",
        "y2 = np.cos(2 * np.pi * x2)\n",
        "\n",
        "plt.subplot(2, 1, 1)\n",
        "plt.plot(x1, y1, 'o-')\n",
        "plt.title('A tale of 2 subplots')\n",
        "plt.ylabel('Damped oscillation')\n",
        "\n",
        "plt.subplot(2, 1, 2)\n",
        "plt.plot(x2, y2, '.-')\n",
        "plt.xlabel('time (s)')\n",
        "plt.ylabel('Undamped')\n",
        "\n",
        "plt.show()"
      ],
      "execution_count": null,
      "outputs": [
        {
          "output_type": "display_data",
          "data": {
            "image/png": "[encoded data removed]",
            "text/plain": [
              "<Figure size 432x288 with 2 Axes>"
            ]
          },
          "metadata": {
            "tags": []
          }
        }
      ]
    },
    {
      "cell_type": "markdown",
      "metadata": {
        "id": "7YfeMxKbaa-6"
      },
      "source": [
        "2. [Seaborn](https://seaborn.pydata.org/): `Seaborn` is a visualization library built on top of matplotlib. It allows users to produce graphics while being easy to use."
      ]
    },
    {
      "cell_type": "code",
      "metadata": {
        "id": "l7sy6KLOa2lR",
        "colab": {
          "base_uri": "https://localhost:8080/",
          "height": 336
        },
        "outputId": "5b6a74cf-8c92-4f6e-94ec-32f6250ca84e"
      },
      "source": [
        "import seaborn as sns\n",
        "sns.set(style=\"darkgrid\")\n",
        "\n",
        "# Load an example dataset with long-form data\n",
        "fmri = sns.load_dataset(\"fmri\")\n",
        "\n",
        "# Plot the responses for different events and regions\n",
        "sns.lineplot(x=\"timepoint\", y=\"signal\",\n",
        "             hue=\"region\", style=\"event\",\n",
        "             data=fmri)"
      ],
      "execution_count": null,
      "outputs": [
        {
          "output_type": "stream",
          "text": [
            "/usr/local/lib/python3.6/dist-packages/statsmodels/tools/_testing.py:19: FutureWarning: pandas.util.testing is deprecated. Use the functions in the public API at pandas.testing instead.\n",
            "  import pandas.util.testing as tm\n"
          ],
          "name": "stderr"
        },
        {
          "output_type": "execute_result",
          "data": {
            "text/plain": [
              "<matplotlib.axes._subplots.AxesSubplot at 0x7f431969fdd8>"
            ]
          },
          "metadata": {
            "tags": []
          },
          "execution_count": 2
        },
        {
          "output_type": "display_data",
          "data": {
            "image/png": "[encoded data removed]",
            "text/plain": [
              "<Figure size 432x288 with 1 Axes>"
            ]
          },
          "metadata": {
            "tags": []
          }
        }
      ]
    },
    {
      "cell_type": "markdown",
      "metadata": {
        "id": "4i8knPrFabF9"
      },
      "source": [
        "3. [Bokeh](https://docs.bokeh.org/en/latest/index.html): `Bokeh` is an interactive visualization library for modern web browsers. It provides elegant, concise construction of versatile graphics, and affords high-performance interactivity over large or streaming datasets. Bokeh can help anyone who would like to quickly and easily make interactive plots, dashboards, and data applications.[Bokeh Gallary](https://docs.bokeh.org/en/latest/docs/gallery.html#gallery)"
      ]
    },
    {
      "cell_type": "code",
      "metadata": {
        "id": "uoSpcovMc09j",
        "colab": {
          "base_uri": "https://localhost:8080/",
          "height": 317
        },
        "outputId": "d7b4c92c-a489-46e2-c295-e065ecd63300"
      },
      "source": [
        "# Plot a complex chart with intearctive hover in a few lines of code\n",
        "from bokeh.io import output_notebook, show\n",
        "output_notebook()\n",
        "from bokeh.models import ColumnDataSource, HoverTool\n",
        "from bokeh.plotting import figure\n",
        "from bokeh.sampledata.autompg import autompg_clean as df\n",
        "from bokeh.transform import factor_cmap\n",
        "\n",
        "df.cyl = df.cyl.astype(str)\n",
        "df.yr = df.yr.astype(str)\n",
        "\n",
        "group = df.groupby(by=['cyl', 'mfr'])\n",
        "source = ColumnDataSource(group)\n",
        "\n",
        "p = figure(plot_width=800, plot_height=300, title=\"Mean MPG by # Cylinders and Manufacturer\",\n",
        "           x_range=group, toolbar_location=None, tools=\"\")\n",
        "\n",
        "p.xgrid.grid_line_color = None\n",
        "p.xaxis.axis_label = \"Manufacturer grouped by # Cylinders\"\n",
        "p.xaxis.major_label_orientation = 1.2\n",
        "\n",
        "index_cmap = factor_cmap('cyl_mfr', palette=['#2b83ba', '#abdda4', '#ffffbf', '#fdae61', '#d7191c'],\n",
        "                         factors=sorted(df.cyl.unique()), end=1)\n",
        "\n",
        "p.vbar(x='cyl_mfr', top='mpg_mean', width=1, source=source,\n",
        "       line_color=\"white\", fill_color=index_cmap,\n",
        "       hover_line_color=\"darkgrey\", hover_fill_color=index_cmap)\n",
        "\n",
        "p.add_tools(HoverTool(tooltips=[(\"MPG\", \"@mpg_mean\"), (\"Cyl, Mfr\", \"@cyl_mfr\")]))\n",
        "\n",
        "show(p)"
      ],
      "execution_count": null,
      "outputs": [
        {
          "output_type": "display_data",
          "data": {
            "application/javascript": [
              "\n",
              "(function(root) {\n",
              "  function now() {\n",
              "    return new Date();\n",
              "  }\n",
              "\n",
              "  var force = true;\n",
              "\n",
              "  if (typeof root._bokeh_onload_callbacks === \"undefined\" || force === true) {\n",
              "    root._bokeh_onload_callbacks = [];\n",
              "    root._bokeh_is_loading = undefined;\n",
              "  }\n",
              "\n",
              "  var JS_MIME_TYPE = 'application/javascript';\n",
              "  var HTML_MIME_TYPE = 'text/html';\n",
              "  var EXEC_MIME_TYPE = 'application/vnd.bokehjs_exec.v0+json';\n",
              "  var CLASS_NAME = 'output_bokeh rendered_html';\n",
              "\n",
              "  /**\n",
              "   * Render data to the DOM node\n",
              "   */\n",
              "  function render(props, node) {\n",
              "    var script = document.createElement(\"script\");\n",
              "    node.appendChild(script);\n",
              "  }\n",
              "\n",
              "  /**\n",
              "   * Handle when an output is cleared or removed\n",
              "   */\n",
              "  function handleClearOutput(event, handle) {\n",
              "    var cell = handle.cell;\n",
              "\n",
              "    var id = cell.output_area._bokeh_element_id;\n",
              "    var server_id = cell.output_area._bokeh_server_id;\n",
              "    // Clean up Bokeh references\n",
              "    if (id != null && id in Bokeh.index) {\n",
              "      Bokeh.index[id].model.document.clear();\n",
              "      delete Bokeh.index[id];\n",
              "    }\n",
              "\n",
              "    if (server_id !== undefined) {\n",
              "      // Clean up Bokeh references\n",
              "      var cmd = \"from bokeh.io.state import curstate; print(curstate().uuid_to_server['\" + server_id + \"'].get_sessions()[0].document.roots[0]._id)\";\n",
              "      cell.notebook.kernel.execute(cmd, {\n",
              "        iopub: {\n",
              "          output: function(msg) {\n",
              "            var id = msg.content.text.trim();\n",
              "            if (id in Bokeh.index) {\n",
              "              Bokeh.index[id].model.document.clear();\n",
              "              delete Bokeh.index[id];\n",
              "            }\n",
              "          }\n",
              "        }\n",
              "      });\n",
              "      // Destroy server and session\n",
              "      var cmd = \"import bokeh.io.notebook as ion; ion.destroy_server('\" + server_id + \"')\";\n",
              "      cell.notebook.kernel.execute(cmd);\n",
              "    }\n",
              "  }\n",
              "\n",
              "  /**\n",
              "   * Handle when a new output is added\n",
              "   */\n",
              "  function handleAddOutput(event, handle) {\n",
              "    var output_area = handle.output_area;\n",
              "    var output = handle.output;\n",
              "\n",
              "    // limit handleAddOutput to display_data with EXEC_MIME_TYPE content only\n",
              "    if ((output.output_type != \"display_data\") || (!output.data.hasOwnProperty(EXEC_MIME_TYPE))) {\n",
              "      return\n",
              "    }\n",
              "\n",
              "    var toinsert = output_area.element.find(\".\" + CLASS_NAME.split(' ')[0]);\n",
              "\n",
              "    if (output.metadata[EXEC_MIME_TYPE][\"id\"] !== undefined) {\n",
              "      toinsert[toinsert.length - 1].firstChild.textContent = output.data[JS_MIME_TYPE];\n",
              "      // store reference to embed id on output_area\n",
              "      output_area._bokeh_element_id = output.metadata[EXEC_MIME_TYPE][\"id\"];\n",
              "    }\n",
              "    if (output.metadata[EXEC_MIME_TYPE][\"server_id\"] !== undefined) {\n",
              "      var bk_div = document.createElement(\"div\");\n",
              "      bk_div.innerHTML = output.data[HTML_MIME_TYPE];\n",
              "      var script_attrs = bk_div.children[0].attributes;\n",
              "      for (var i = 0; i < script_attrs.length; i++) {\n",
              "        toinsert[toinsert.length - 1].firstChild.setAttribute(script_attrs[i].name, script_attrs[i].value);\n",
              "      }\n",
              "      // store reference to server id on output_area\n",
              "      output_area._bokeh_server_id = output.metadata[EXEC_MIME_TYPE][\"server_id\"];\n",
              "    }\n",
              "  }\n",
              "\n",
              "  function register_renderer(events, OutputArea) {\n",
              "\n",
              "    function append_mime(data, metadata, element) {\n",
              "      // create a DOM node to render to\n",
              "      var toinsert = this.create_output_subarea(\n",
              "        metadata,\n",
              "        CLASS_NAME,\n",
              "        EXEC_MIME_TYPE\n",
              "      );\n",
              "      this.keyboard_manager.register_events(toinsert);\n",
              "      // Render to node\n",
              "      var props = {data: data, metadata: metadata[EXEC_MIME_TYPE]};\n",
              "      render(props, toinsert[toinsert.length - 1]);\n",
              "      element.append(toinsert);\n",
              "      return toinsert\n",
              "    }\n",
              "\n",
              "    /* Handle when an output is cleared or removed */\n",
              "    events.on('clear_output.CodeCell', handleClearOutput);\n",
              "    events.on('delete.Cell', handleClearOutput);\n",
              "\n",
              "    /* Handle when a new output is added */\n",
              "    events.on('output_added.OutputArea', handleAddOutput);\n",
              "\n",
              "    /**\n",
              "     * Register the mime type and append_mime function with output_area\n",
              "     */\n",
              "    OutputArea.prototype.register_mime_type(EXEC_MIME_TYPE, append_mime, {\n",
              "      /* Is output safe? */\n",
              "      safe: true,\n",
              "      /* Index of renderer in `output_area.display_order` */\n",
              "      index: 0\n",
              "    });\n",
              "  }\n",
              "\n",
              "  // register the mime type if in Jupyter Notebook environment and previously unregistered\n",
              "  if (root.Jupyter !== undefined) {\n",
              "    var events = require('base/js/events');\n",
              "    var OutputArea = require('notebook/js/outputarea').OutputArea;\n",
              "\n",
              "    if (OutputArea.prototype.mime_types().indexOf(EXEC_MIME_TYPE) == -1) {\n",
              "      register_renderer(events, OutputArea);\n",
              "    }\n",
              "  }\n",
              "\n",
              "  \n",
              "  if (typeof (root._bokeh_timeout) === \"undefined\" || force === true) {\n",
              "    root._bokeh_timeout = Date.now() + 5000;\n",
              "    root._bokeh_failed_load = false;\n",
              "  }\n",
              "\n",
              "  var NB_LOAD_WARNING = {'data': {'text/html':\n",
              "     \"<div style='background-color: #fdd'>\\n\"+\n",
              "     \"<p>\\n\"+\n",
              "     \"BokehJS does not appear to have successfully loaded. If loading BokehJS from CDN, this \\n\"+\n",
              "     \"may be due to a slow or bad network connection. Possible fixes:\\n\"+\n",
              "     \"</p>\\n\"+\n",
              "     \"<ul>\\n\"+\n",
              "     \"<li>re-rerun `output_notebook()` to attempt to load from CDN again, or</li>\\n\"+\n",
              "     \"<li>use INLINE resources instead, as so:</li>\\n\"+\n",
              "     \"</ul>\\n\"+\n",
              "     \"<code>\\n\"+\n",
              "     \"from bokeh.resources import INLINE\\n\"+\n",
              "     \"output_notebook(resources=INLINE)\\n\"+\n",
              "     \"</code>\\n\"+\n",
              "     \"</div>\"}};\n",
              "\n",
              "  function display_loaded() {\n",
              "    var el = document.getElementById(null);\n",
              "    if (el != null) {\n",
              "      el.textContent = \"BokehJS is loading...\";\n",
              "    }\n",
              "    if (root.Bokeh !== undefined) {\n",
              "      if (el != null) {\n",
              "        el.textContent = \"BokehJS \" + root.Bokeh.version + \" successfully loaded.\";\n",
              "      }\n",
              "    } else if (Date.now() < root._bokeh_timeout) {\n",
              "      setTimeout(display_loaded, 100)\n",
              "    }\n",
              "  }\n",
              "\n",
              "\n",
              "  function run_callbacks() {\n",
              "    try {\n",
              "      root._bokeh_onload_callbacks.forEach(function(callback) {\n",
              "        if (callback != null)\n",
              "          callback();\n",
              "      });\n",
              "    } finally {\n",
              "      delete root._bokeh_onload_callbacks\n",
              "    }\n",
              "    console.debug(\"Bokeh: all callbacks have finished\");\n",
              "  }\n",
              "\n",
              "  function load_libs(css_urls, js_urls, callback) {\n",
              "    if (css_urls == null) css_urls = [];\n",
              "    if (js_urls == null) js_urls = [];\n",
              "\n",
              "    root._bokeh_onload_callbacks.push(callback);\n",
              "    if (root._bokeh_is_loading > 0) {\n",
              "      console.debug(\"Bokeh: BokehJS is being loaded, scheduling callback at\", now());\n",
              "      return null;\n",
              "    }\n",
              "    if (js_urls == null || js_urls.length === 0) {\n",
              "      run_callbacks();\n",
              "      return null;\n",
              "    }\n",
              "    console.debug(\"Bokeh: BokehJS not loaded, scheduling load and callback at\", now());\n",
              "    root._bokeh_is_loading = css_urls.length + js_urls.length;\n",
              "\n",
              "    function on_load() {\n",
              "      root._bokeh_is_loading--;\n",
              "      if (root._bokeh_is_loading === 0) {\n",
              "        console.debug(\"Bokeh: all BokehJS libraries/stylesheets loaded\");\n",
              "        run_callbacks()\n",
              "      }\n",
              "    }\n",
              "\n",
              "    function on_error() {\n",
              "      console.error(\"failed to load \" + url);\n",
              "    }\n",
              "\n",
              "    for (var i = 0; i < css_urls.length; i++) {\n",
              "      var url = css_urls[i];\n",
              "      const element = document.createElement(\"link\");\n",
              "      element.onload = on_load;\n",
              "      element.onerror = on_error;\n",
              "      element.rel = \"stylesheet\";\n",
              "      element.type = \"text/css\";\n",
              "      element.href = url;\n",
              "      console.debug(\"Bokeh: injecting link tag for BokehJS stylesheet: \", url);\n",
              "      document.body.appendChild(element);\n",
              "    }\n",
              "\n",
              "    for (var i = 0; i < js_urls.length; i++) {\n",
              "      var url = js_urls[i];\n",
              "      var element = document.createElement('script');\n",
              "      element.onload = on_load;\n",
              "      element.onerror = on_error;\n",
              "      element.async = false;\n",
              "      element.src = url;\n",
              "      console.debug(\"Bokeh: injecting script tag for BokehJS library: \", url);\n",
              "      document.head.appendChild(element);\n",
              "    }\n",
              "  };\n",
              "\n",
              "  function inject_raw_css(css) {\n",
              "    const element = document.createElement(\"style\");\n",
              "    element.appendChild(document.createTextNode(css));\n",
              "    document.body.appendChild(element);\n",
              "  }\n",
              "\n",
              "  \n",
              "  var js_urls = [\"https://cdn.pydata.org/bokeh/release/bokeh-1.4.0.min.js\", \"https://cdn.pydata.org/bokeh/release/bokeh-widgets-1.4.0.min.js\", \"https://cdn.pydata.org/bokeh/release/bokeh-tables-1.4.0.min.js\", \"https://cdn.pydata.org/bokeh/release/bokeh-gl-1.4.0.min.js\"];\n",
              "  var css_urls = [];\n",
              "  \n",
              "\n",
              "  var inline_js = [\n",
              "    function(Bokeh) {\n",
              "      Bokeh.set_log_level(\"info\");\n",
              "    },\n",
              "    function(Bokeh) {\n",
              "    \n",
              "    \n",
              "    }\n",
              "  ];\n",
              "\n",
              "  function run_inline_js() {\n",
              "    \n",
              "    if (root.Bokeh !== undefined || force === true) {\n",
              "      \n",
              "    for (var i = 0; i < inline_js.length; i++) {\n",
              "      inline_js[i].call(root, root.Bokeh);\n",
              "    }\n",
              "    } else if (Date.now() < root._bokeh_timeout) {\n",
              "      setTimeout(run_inline_js, 100);\n",
              "    } else if (!root._bokeh_failed_load) {\n",
              "      console.log(\"Bokeh: BokehJS failed to load within specified timeout.\");\n",
              "      root._bokeh_failed_load = true;\n",
              "    } else if (force !== true) {\n",
              "      var cell = $(document.getElementById(null)).parents('.cell').data().cell;\n",
              "      cell.output_area.append_execute_result(NB_LOAD_WARNING)\n",
              "    }\n",
              "\n",
              "  }\n",
              "\n",
              "  if (root._bokeh_is_loading === 0) {\n",
              "    console.debug(\"Bokeh: BokehJS loaded, going straight to plotting\");\n",
              "    run_inline_js();\n",
              "  } else {\n",
              "    load_libs(css_urls, js_urls, function() {\n",
              "      console.debug(\"Bokeh: BokehJS plotting callback run at\", now());\n",
              "      run_inline_js();\n",
              "    });\n",
              "  }\n",
              "}(window));"
            ],
            "application/vnd.bokehjs_load.v0+json": "\n(function(root) {\n  function now() {\n    return new Date();\n  }\n\n  var force = true;\n\n  if (typeof root._bokeh_onload_callbacks === \"undefined\" || force === true) {\n    root._bokeh_onload_callbacks = [];\n    root._bokeh_is_loading = undefined;\n  }\n\n  \n\n  \n  if (typeof (root._bokeh_timeout) === \"undefined\" || force === true) {\n    root._bokeh_timeout = Date.now() + 5000;\n    root._bokeh_failed_load = false;\n  }\n\n  var NB_LOAD_WARNING = {'data': {'text/html':\n     \"<div style='background-color: #fdd'>\\n\"+\n     \"<p>\\n\"+\n     \"BokehJS does not appear to have successfully loaded. If loading BokehJS from CDN, this \\n\"+\n     \"may be due to a slow or bad network connection. Possible fixes:\\n\"+\n     \"</p>\\n\"+\n     \"<ul>\\n\"+\n     \"<li>re-rerun `output_notebook()` to attempt to load from CDN again, or</li>\\n\"+\n     \"<li>use INLINE resources instead, as so:</li>\\n\"+\n     \"</ul>\\n\"+\n     \"<code>\\n\"+\n     \"from bokeh.resources import INLINE\\n\"+\n     \"output_notebook(resources=INLINE)\\n\"+\n     \"</code>\\n\"+\n     \"</div>\"}};\n\n  function display_loaded() {\n    var el = document.getElementById(null);\n    if (el != null) {\n      el.textContent = \"BokehJS is loading...\";\n    }\n    if (root.Bokeh !== undefined) {\n      if (el != null) {\n        el.textContent = \"BokehJS \" + root.Bokeh.version + \" successfully loaded.\";\n      }\n    } else if (Date.now() < root._bokeh_timeout) {\n      setTimeout(display_loaded, 100)\n    }\n  }\n\n\n  function run_callbacks() {\n    try {\n      root._bokeh_onload_callbacks.forEach(function(callback) {\n        if (callback != null)\n          callback();\n      });\n    } finally {\n      delete root._bokeh_onload_callbacks\n    }\n    console.debug(\"Bokeh: all callbacks have finished\");\n  }\n\n  function load_libs(css_urls, js_urls, callback) {\n    if (css_urls == null) css_urls = [];\n    if (js_urls == null) js_urls = [];\n\n    root._bokeh_onload_callbacks.push(callback);\n    if (root._bokeh_is_loading > 0) {\n      console.debug(\"Bokeh: BokehJS is being loaded, scheduling callback at\", now());\n      return null;\n    }\n    if (js_urls == null || js_urls.length === 0) {\n      run_callbacks();\n      return null;\n    }\n    console.debug(\"Bokeh: BokehJS not loaded, scheduling load and callback at\", now());\n    root._bokeh_is_loading = css_urls.length + js_urls.length;\n\n    function on_load() {\n      root._bokeh_is_loading--;\n      if (root._bokeh_is_loading === 0) {\n        console.debug(\"Bokeh: all BokehJS libraries/stylesheets loaded\");\n        run_callbacks()\n      }\n    }\n\n    function on_error() {\n      console.error(\"failed to load \" + url);\n    }\n\n    for (var i = 0; i < css_urls.length; i++) {\n      var url = css_urls[i];\n      const element = document.createElement(\"link\");\n      element.onload = on_load;\n      element.onerror = on_error;\n      element.rel = \"stylesheet\";\n      element.type = \"text/css\";\n      element.href = url;\n      console.debug(\"Bokeh: injecting link tag for BokehJS stylesheet: \", url);\n      document.body.appendChild(element);\n    }\n\n    for (var i = 0; i < js_urls.length; i++) {\n      var url = js_urls[i];\n      var element = document.createElement('script');\n      element.onload = on_load;\n      element.onerror = on_error;\n      element.async = false;\n      element.src = url;\n      console.debug(\"Bokeh: injecting script tag for BokehJS library: \", url);\n      document.head.appendChild(element);\n    }\n  };\n\n  function inject_raw_css(css) {\n    const element = document.createElement(\"style\");\n    element.appendChild(document.createTextNode(css));\n    document.body.appendChild(element);\n  }\n\n  \n  var js_urls = [\"https://cdn.pydata.org/bokeh/release/bokeh-1.4.0.min.js\", \"https://cdn.pydata.org/bokeh/release/bokeh-widgets-1.4.0.min.js\", \"https://cdn.pydata.org/bokeh/release/bokeh-tables-1.4.0.min.js\", \"https://cdn.pydata.org/bokeh/release/bokeh-gl-1.4.0.min.js\"];\n  var css_urls = [];\n  \n\n  var inline_js = [\n    function(Bokeh) {\n      Bokeh.set_log_level(\"info\");\n    },\n    function(Bokeh) {\n    \n    \n    }\n  ];\n\n  function run_inline_js() {\n    \n    if (root.Bokeh !== undefined || force === true) {\n      \n    for (var i = 0; i < inline_js.length; i++) {\n      inline_js[i].call(root, root.Bokeh);\n    }\n    } else if (Date.now() < root._bokeh_timeout) {\n      setTimeout(run_inline_js, 100);\n    } else if (!root._bokeh_failed_load) {\n      console.log(\"Bokeh: BokehJS failed to load within specified timeout.\");\n      root._bokeh_failed_load = true;\n    } else if (force !== true) {\n      var cell = $(document.getElementById(null)).parents('.cell').data().cell;\n      cell.output_area.append_execute_result(NB_LOAD_WARNING)\n    }\n\n  }\n\n  if (root._bokeh_is_loading === 0) {\n    console.debug(\"Bokeh: BokehJS loaded, going straight to plotting\");\n    run_inline_js();\n  } else {\n    load_libs(css_urls, js_urls, function() {\n      console.debug(\"Bokeh: BokehJS plotting callback run at\", now());\n      run_inline_js();\n    });\n  }\n}(window));"
          },
          "metadata": {
            "tags": []
          }
        },
        {
          "output_type": "display_data",
          "data": {
            "text/html": [
              "\n",
              "\n",
              "\n",
              "\n",
              "\n",
              "\n",
              "  <div class=\"bk-root\" id=\"e538745c-ef5c-4475-9b22-26e1ea112e00\" data-root-id=\"1085\"></div>\n"
            ]
          },
          "metadata": {
            "tags": []
          }
        },
        {
          "output_type": "display_data",
          "data": {
            "application/javascript": [
              "(function(root) {\n",
              "  function embed_document(root) {\n",
              "    \n",
              "  var docs_json = {\"97750b43-a17f-4250-8600-a55c4c721700\":{\"roots\":{\"references\":[{\"attributes\":{\"below\":[{\"id\":\"1096\",\"type\":\"CategoricalAxis\"}],\"center\":[{\"id\":\"1099\",\"type\":\"Grid\"},{\"id\":\"1104\",\"type\":\"Grid\"}],\"left\":[{\"id\":\"1100\",\"type\":\"LinearAxis\"}],\"plot_height\":300,\"plot_width\":800,\"renderers\":[{\"id\":\"1111\",\"type\":\"GlyphRenderer\"}],\"title\":{\"id\":\"1086\",\"type\":\"Title\"},\"toolbar\":{\"id\":\"1105\",\"type\":\"Toolbar\"},\"toolbar_location\":null,\"x_range\":{\"id\":\"1088\",\"type\":\"FactorRange\"},\"x_scale\":{\"id\":\"1092\",\"type\":\"CategoricalScale\"},\"y_range\":{\"id\":\"1090\",\"type\":\"DataRange1d\"},\"y_scale\":{\"id\":\"1094\",\"type\":\"LinearScale\"}},\"id\":\"1085\",\"subtype\":\"Figure\",\"type\":\"Plot\"},{\"attributes\":{},\"id\":\"1128\",\"type\":\"Selection\"},{\"attributes\":{},\"id\":\"1092\",\"type\":\"CategoricalScale\"},{\"attributes\":{\"source\":{\"id\":\"1084\",\"type\":\"ColumnDataSource\"}},\"id\":\"1112\",\"type\":\"CDSView\"},{\"attributes\":{\"fill_alpha\":{\"value\":0.1},\"fill_color\":{\"value\":\"#1f77b4\"},\"line_alpha\":{\"value\":0.1},\"line_color\":{\"value\":\"#1f77b4\"},\"top\":{\"field\":\"mpg_mean\"},\"width\":{\"value\":1},\"x\":{\"field\":\"cyl_mfr\"}},\"id\":\"1109\",\"type\":\"VBar\"},{\"attributes\":{\"end\":1,\"factors\":[\"3\",\"4\",\"5\",\"6\",\"8\"],\"palette\":[\"#2b83ba\",\"#abdda4\",\"#ffffbf\",\"#fdae61\",\"#d7191c\"]},\"id\":\"1106\",\"type\":\"CategoricalColorMapper\"},{\"attributes\":{\"axis_label\":\"Manufacturer grouped by # Cylinders\",\"formatter\":{\"id\":\"1124\",\"type\":\"CategoricalTickFormatter\"},\"major_label_orientation\":1.2,\"ticker\":{\"id\":\"1097\",\"type\":\"CategoricalTicker\"}},\"id\":\"1096\",\"type\":\"CategoricalAxis\"},{\"attributes\":{},\"id\":\"1127\",\"type\":\"UnionRenderers\"},{\"attributes\":{\"active_drag\":\"auto\",\"active_inspect\":\"auto\",\"active_multi\":null,\"active_scroll\":\"auto\",\"active_tap\":\"auto\",\"tools\":[{\"id\":\"1113\",\"type\":\"HoverTool\"}]},\"id\":\"1105\",\"type\":\"Toolbar\"},{\"attributes\":{\"callback\":null},\"id\":\"1090\",\"type\":\"DataRange1d\"},{\"attributes\":{},\"id\":\"1101\",\"type\":\"BasicTicker\"},{\"attributes\":{\"formatter\":{\"id\":\"1126\",\"type\":\"BasicTickFormatter\"},\"ticker\":{\"id\":\"1101\",\"type\":\"BasicTicker\"}},\"id\":\"1100\",\"type\":\"LinearAxis\"},{\"attributes\":{\"callback\":null,\"tooltips\":[[\"MPG\",\"@mpg_mean\"],[\"Cyl, Mfr\",\"@cyl_mfr\"]]},\"id\":\"1113\",\"type\":\"HoverTool\"},{\"attributes\":{\"text\":\"Mean MPG by # Cylinders and Manufacturer\"},\"id\":\"1086\",\"type\":\"Title\"},{\"attributes\":{},\"id\":\"1094\",\"type\":\"LinearScale\"},{\"attributes\":{},\"id\":\"1124\",\"type\":\"CategoricalTickFormatter\"},{\"attributes\":{},\"id\":\"1097\",\"type\":\"CategoricalTicker\"},{\"attributes\":{\"callback\":null,\"data\":{\"accel_25%\":{\"__ndarray__\":\"AAAAAACAKkBmZmZmZkYwQAAAAAAAAC1AZmZmZmYmKUDNzMzMzMwuQM3MzMzMzC1AAAAAAADgMEAAAAAAAAAtQDMzMzMz8y1AzczMzMzMLEDMzMzMzEwtQAEAAAAAgC9AAAAAAAAALkAAAAAAACAxQM3MzMzMzDVAZmZmZmamLUAAAAAAAAAtQJqZmZmZmTFAAAAAAADALEAAAAAAAIAyQP//////fy1AAAAAAAAAMEBmZmZmZqYwQAAAAAAAwCtAzMzMzMwsMEDNzMzMzMwtQDMzMzMzMy5AzMzMzMyMLEAAAAAAAAAtQGZmZmZm5jBAmpmZmZkZNEAzMzMzMzMuQM3MzMzMzC5AAAAAAAAALkCamZmZmZkwQDQzMzMzMylAzMzMzMxsMUCamZmZmZkuQDMzMzMzszBAZmZmZmYGMECamZmZmdkrQJqZmZmZmS9AAAAAAACAL0CamZmZmZkuQJqZmZmZGSpAMzMzMzMzLkAAAAAAAMAmQAAAAAAAgCZAmZmZmZnZKkAAAAAAAAAoQMzMzMzMzCdAAAAAAACAKEAAAAAAAMAoQAAAAAAAgDJAAAAAAAAAJ0AAAAAAAAAqQAAAAAAAACdAmpmZmZkZJUA=\",\"dtype\":\"float64\",\"shape\":[58]},\"accel_50%\":{\"__ndarray__\":\"AAAAAAAAK0DNzMzMzIwxQAAAAAAAAC5AzczMzMxMKUAAAAAAAAAwQM3MzMzMzC1AzczMzMxMMkAAAAAAAAAtQGZmZmZm5jBAAAAAAAAALUAAAAAAAAAvQDMzMzMzczBAmpmZmZkZMEAAAAAAAMAxQM3MzMzMzDVAzczMzMxML0AAAAAAAAAtQJqZmZmZmTFAAAAAAAAALkAAAAAAAIAzQGZmZmZmZi5AMzMzMzMzMEAAAAAAAAAyQDMzMzMzsy1AmpmZmZkZMUBmZmZmZmYwQDMzMzMzMy5AzczMzMzMLkAAAAAAAAAuQGZmZmZm5jFAmpmZmZkZNEAAAAAAAAAwQJqZmZmZmS9AZmZmZmZmMECamZmZmZkwQJqZmZmZmStAMzMzMzMzMkAAAAAAAEAwQDMzMzMzszBAMzMzMzNzMUBmZmZmZuYtQJqZmZmZmS9AAAAAAACAMECamZmZmZkvQAAAAAAAACtAmpmZmZmZMEAAAAAAAIAnQAAAAAAAACpAAAAAAACALUAAAAAAAAAqQDMzMzMzsyhAMzMzMzOzKkBmZmZmZuYqQAAAAAAAgDJAmpmZmZmZKUAAAAAAAAAvQDMzMzMzMypAAAAAAAAAJ0A=\",\"dtype\":\"float64\",\"shape\":[58]},\"accel_75%\":{\"__ndarray__\":\"AAAAAAAAK0A0MzMzM9MyQJqZmZmZmS9ANDMzMzNzKUAzMzMzMzMwQM3MzMzMzC1AAAAAAACAM0AAAAAAAAAtQDQzMzMzszJAmpmZmZnZL0AAAAAAAEAvQAAAAAAAgDFAAAAAAAAAMUCZmZmZmTkyQM3MzMzMzDVAmpmZmZl5MEAAAAAAAAAtQJqZmZmZmTFAMzMzMzOzL0BmZmZmZiY1QJmZmZmZOTBAAAAAAAAAMkDNzMzMzEwyQGZmZmZmJjBAmpmZmZnZMUCamZmZmRkxQDMzMzMzMy5AAAAAAADgNECamZmZmRkvQGZmZmZm5jJAmpmZmZkZNECamZmZmZkxQGZmZmZmpjBAAAAAAACAMUCamZmZmZkwQM3MzMzMTCxAMzMzMzOzMkA0MzMzM/MxQDMzMzMzszBAZmZmZmbmMkAzMzMzM/MvQJqZmZmZmS9AmpmZmZnZMEAzMzMzM/MwQAAAAAAAAC1AmpmZmZkZMkAzMzMzM7MpQAAAAAAAACxAMzMzMzMTMEAAAAAAAAAsQAAAAAAAQClAZmZmZmZmK0A0MzMzM7MsQAAAAAAAgDJAZmZmZmZmKkAAAAAAAAAzQAAAAAAAwCtAAAAAAACAJ0A=\",\"dtype\":\"float64\",\"shape\":[58]},\"accel_count\":{\"__ndarray__\":\"AAAAAAAAEEAAAAAAAAAAQAAAAAAAABRAAAAAAAAAAEAAAAAAAAAIQAAAAAAAAPA/AAAAAAAAMEAAAAAAAADwPwAAAAAAADRAAAAAAAAAKEAAAAAAAAAgQAAAAAAAADBAAAAAAAAAKkAAAAAAAAAgQAAAAAAAAPA/AAAAAAAAAEAAAAAAAADwPwAAAAAAAPA/AAAAAAAAEEAAAAAAAAAcQAAAAAAAACRAAAAAAAAAFEAAAAAAAAAIQAAAAAAAABBAAAAAAAAAEEAAAAAAAAA3QAAAAAAAAPA/AAAAAAAANkAAAAAAAAAQQAAAAAAAAABAAAAAAAAA8D8AAAAAAAAxQAAAAAAAABxAAAAAAAAAJkAAAAAAAADwPwAAAAAAAAhAAAAAAAAAEEAAAAAAAAAoQAAAAAAAAPA/AAAAAAAAEEAAAAAAAAAAQAAAAAAAAPA/AAAAAAAAJkAAAAAAAAAQQAAAAAAAAAhAAAAAAAAAAEAAAAAAAAAgQAAAAAAAABxAAAAAAAAAAEAAAAAAAAA0QAAAAAAAABBAAAAAAAAAKEAAAAAAAAA0QAAAAAAAAPA/AAAAAAAAFEAAAAAAAAAcQAAAAAAAACRAAAAAAAAAHEA=\",\"dtype\":\"float64\",\"shape\":[58]},\"accel_max\":{\"__ndarray__\":\"AAAAAAAAK0CamZmZmRk0QAAAAAAAgDBAmpmZmZmZKUBmZmZmZmYwQM3MzMzMzC1AMzMzMzMzNkAAAAAAAAAtQGZmZmZmZjNAMzMzMzOzMUAAAAAAAIAzQDMzMzMzszRAAAAAAACAMkBmZmZmZmYzQM3MzMzMzDVAzczMzMxMMUAAAAAAAAAtQJqZmZmZmTFAZmZmZmbmMEDNzMzMzMw4QAAAAAAAgDRAAAAAAACAMkCamZmZmZkyQAAAAAAAgDFAAAAAAAAAMkAAAAAAAAA1QDMzMzMzMy5AmpmZmZmZOEBmZmZmZmYvQGZmZmZm5jNAmpmZmZkZNEAAAAAAAAAzQAAAAAAAADVAAAAAAACAMkCamZmZmZkwQAAAAAAAAC1AMzMzMzOzMkAAAAAAAAA1QDMzMzMzszBAAAAAAAAANUAAAAAAAAAxQJqZmZmZmS9AAAAAAAAAM0AzMzMzMzMzQAAAAAAAAC9AmpmZmZmZM0AAAAAAAAAvQM3MzMzMzC1AZmZmZmZmMUDNzMzMzMwuQAAAAAAAACpAZmZmZmZmLkAAAAAAAAAwQAAAAAAAgDJAzczMzMzMLUAzMzMzMzM2QAAAAAAAAC1AAAAAAAAAKEA=\",\"dtype\":\"float64\",\"shape\":[58]},\"accel_mean\":{\"__ndarray__\":\"AAAAAACAKkDNzMzMzIwxQFK4HoXrUS5AzczMzMxMKUB4d3d3d3cvQM3MzMzMzC1AMzMzMzNTMkAAAAAAAAAtQML1KFyP4jBAvLu7u7u7LUDNzMzMzEwvQJmZmZmZqTBAwA/8wA/8L0AzMzMzM4MxQM3MzMzMzDVAzczMzMxML0AAAAAAAAAtQJqZmZmZmTFAMzMzMzNzLkBf8RVf8RU0QBWuR+F6FC9A4noUrkdhMEDNzMzMzEwxQJqZmZmZWS5AzczMzMzsMECUD+N+XVIwQDMzMzMzMy5ApwR5SpBnMUCamZmZmRkuQGZmZmZm5jFAmpmZmZkZNEAzMzMzMzMwQEId1EEdVDBA0UUXXXTRL0CamZmZmZkwQHh3d3d3dypAzczMzMzsMUDv7u7u7s4wQDMzMzMzszBAmpmZmZl5MUBmZmZmZuYtQJqZmZmZmS9Ah7VvWPuGMEAzMzMzM3MwQLy7u7u7uytAmpmZmZmZMECamZmZmRkoQB7UQR3UQSlAAAAAAACALUDNzMzMzIwpQJqZmZmZWShAzMzMzMzMKUBSuB6F65EqQAAAAAAAgDJAXY/C9ShcKUCamZmZmRkwQKRwPQrXoyhAvuIrvuIrJkA=\",\"dtype\":\"float64\",\"shape\":[58]},\"accel_min\":{\"__ndarray__\":\"AAAAAAAAKUAAAAAAAAAuQAAAAAAAACxAAAAAAAAAKUCamZmZmZktQM3MzMzMzC1AAAAAAAAAL0AAAAAAAAAtQAAAAAAAAC1AMzMzMzMzJ0AAAAAAAAAsQDMzMzMzMytAmpmZmZmZK0BmZmZmZmYuQM3MzMzMzDVAAAAAAAAALEAAAAAAAAAtQJqZmZmZmTFAAAAAAAAALEAAAAAAAAAxQM3MzMzMzClAZmZmZmZmKkCamZmZmZkuQAAAAAAAACtAAAAAAAAAL0AAAAAAAAArQDMzMzMzMy5AZmZmZmZmKEAAAAAAAAAtQM3MzMzMzC9AmpmZmZkZNEAAAAAAAAAqQM3MzMzMzCpAmpmZmZmZJkCamZmZmZkwQM3MzMzMzCZAmpmZmZmZMEAAAAAAAAAtQDMzMzMzszBAAAAAAAAALEDNzMzMzMwpQJqZmZmZmS9AzczMzMzMLkAAAAAAAAAuQDMzMzMzMylAMzMzMzMzK0AAAAAAAAAhQAAAAAAAACRAMzMzMzMzKEAAAAAAAAAiQAAAAAAAACZAAAAAAAAAJEAAAAAAAAAkQAAAAAAAgDJAAAAAAAAAJkAAAAAAAAAmQAAAAAAAACBAAAAAAAAAI0A=\",\"dtype\":\"float64\",\"shape\":[58]},\"accel_std\":{\"__ndarray__\":\"AAAAAAAA4D/aBa/CltkMQJhwpa8jBvA/oRT/eiQnyz+s8nEBNKXqPwAAAAAAAPh/ZE+k085YAEAAAAAAAAD4fxE2soXgNfw//oDfulNv+j8yS6+hkwT7P3LUqK5Wo/s/LBFqidl/9j+zHuUrR1b1PwAAAAAAAPh/I16PFOmqAkAAAAAAAAD4fwAAAAAAAPh/062vj8V29D/psnKyNEsFQAtzj2BSAgFAr3RDq2ywAEBLKBJmHCD8P52IbbWHBP0/kpNDBEv+8j8n+uywYNL+PwAAAAAAAPh/iLbDYuyMDkCYZeZ6cH3kP8o7f2aeoAZAAAAAAAAA+H/u8iQBXIX6Pw0qa0PvxgJA/8KED5R4AkAAAAAAAAD4f1194pZpA/o/O9Xd5h0F8D8/TlRadd4AQAAAAAAAAPh/7+ZNqc1hB0DkNg8pbzEHQAAAAAAAAPh/tn2XMctw8T9kZmZmZmb+P3FLR1rzv/c/22zfzHb4EEAKUc4PcYQAQNKepMuXf/0/B/zORzj7DUChr7Qkh376PzMzMzMzM+s/bteC/TsB9z8GTyxx9PT5PwAAAAAAAPh//CUK2GSQ+D+e8zdT+FYQQPy1RsY47wJAIrZ6OpM27z8=\",\"dtype\":\"float64\",\"shape\":[58]},\"cyl_mfr\":[[\"3\",\"mazda\"],[\"4\",\"amc\"],[\"4\",\"audi\"],[\"4\",\"bmw\"],[\"4\",\"buick\"],[\"4\",\"capri\"],[\"4\",\"chevrolet\"],[\"4\",\"chrysler\"],[\"4\",\"datsun\"],[\"4\",\"dodge\"],[\"4\",\"fiat\"],[\"4\",\"ford\"],[\"4\",\"honda\"],[\"4\",\"mazda\"],[\"4\",\"mercedes\"],[\"4\",\"mercury\"],[\"4\",\"nissan\"],[\"4\",\"oldsmobile\"],[\"4\",\"opel\"],[\"4\",\"peugeot\"],[\"4\",\"plymouth\"],[\"4\",\"pontiac\"],[\"4\",\"renault\"],[\"4\",\"saab\"],[\"4\",\"subaru\"],[\"4\",\"toyota\"],[\"4\",\"triumph\"],[\"4\",\"volkswagen\"],[\"4\",\"volvo\"],[\"5\",\"audi\"],[\"5\",\"mercedes\"],[\"6\",\"amc\"],[\"6\",\"buick\"],[\"6\",\"chevrolet\"],[\"6\",\"chrysler\"],[\"6\",\"datsun\"],[\"6\",\"dodge\"],[\"6\",\"ford\"],[\"6\",\"mercedes\"],[\"6\",\"mercury\"],[\"6\",\"oldsmobile\"],[\"6\",\"peugeot\"],[\"6\",\"plymouth\"],[\"6\",\"pontiac\"],[\"6\",\"toyota\"],[\"6\",\"volvo\"],[\"8\",\"amc\"],[\"8\",\"buick\"],[\"8\",\"cadillac\"],[\"8\",\"chevrolet\"],[\"8\",\"chrysler\"],[\"8\",\"dodge\"],[\"8\",\"ford\"],[\"8\",\"hi\"],[\"8\",\"mercury\"],[\"8\",\"oldsmobile\"],[\"8\",\"plymouth\"],[\"8\",\"pontiac\"]],\"displ_25%\":{\"__ndarray__\":\"AAAAAACAUUAAAAAAABBgQAAAAAAAgFhAAAAAAABAXkAAAAAAAGBgQAAAAAAAgGFAAAAAAACAWEAAAAAAAIBjQAAAAAAAQFVAAAAAAACAWEAAAAAAAHBVQAAAAAAAYF5AAAAAAADAVkAAAAAAAIBVQAAAAAAAQGJAAAAAAAAAWkAAAAAAAABeQAAAAAAA4GJAAAAAAADQW0AAAAAAAMBcQAAAAAAAQFpAAAAAAACAYUAAAAAAAOBVQAAAAAAAMF1AAAAAAABAWEAAAAAAAEBXQAAAAAAAgF5AAAAAAACAVkAAAAAAAEBeQAAAAAAA4F5AAAAAAADgZkAAAAAAAABtQAAAAAAA4GxAAAAAAAAgbEAAAAAAACBsQAAAAAAAQGJAAAAAAAAgbEAAAAAAAABpQAAAAAAAAGVAAAAAAACYZ0AAAAAAAGhoQAAAAAAAYGRAAAAAAABwakAAAAAAAOBsQAAAAAAAgGNAAAAAAACwYkAAAAAAAABzQAAAAAAA4HVAAAAAAADgdUAAAAAAABBzQAAAAAAAYHhAAAAAAADgc0AAAAAAAOByQAAAAAAAAHNAAAAAAADgckAAAAAAAEBwQAAAAAAA4HNAAAAAAAAAeUA=\",\"dtype\":\"float64\",\"shape\":[58]},\"displ_50%\":{\"__ndarray__\":\"AAAAAACAUUAAAAAAAABhQAAAAAAAwFpAAAAAAABAXkAAAAAAAOBiQAAAAAAAgGFAAAAAAADgXEAAAAAAAIBjQAAAAAAAIFZAAAAAAABgWUAAAAAAAKBWQAAAAAAAYGBAAAAAAADAVkAAAAAAAMBWQAAAAAAAQGJAAAAAAACAW0AAAAAAAABeQAAAAAAA4GJAAAAAAAAAXUAAAAAAAABeQAAAAAAAQFpAAAAAAADgYkAAAAAAAABYQAAAAAAAQF5AAAAAAABAWEAAAAAAAABbQAAAAAAAgF5AAAAAAABAWEAAAAAAAEBeQAAAAAAAgF9AAAAAAADgZkAAAAAAAABtQAAAAAAA4GxAAAAAAABAb0AAAAAAACBsQAAAAAAAQGJAAAAAAAAgbEAAAAAAACBuQAAAAAAAAGVAAAAAAAAAaUAAAAAAADBrQAAAAAAAYGRAAAAAAAAgbEAAAAAAABBuQAAAAAAAgGNAAAAAAABAY0AAAAAAAABzQAAAAAAA4HVAAAAAAADgdUAAAAAAAOB1QAAAAAAAAHlAAAAAAADgc0AAAAAAAPB1QAAAAAAAAHNAAAAAAADwdUAAAAAAAOB1QAAAAAAA4HNAAAAAAAAAeUA=\",\"dtype\":\"float64\",\"shape\":[58]},\"displ_75%\":{\"__ndarray__\":\"AAAAAAAgUkAAAAAAAPBhQAAAAAAAgFxAAAAAAABAXkAAAAAAAOBiQAAAAAAAgGFAAAAAAACAYUAAAAAAAIBjQAAAAAAAsFtAAAAAAADgYEAAAAAAABBZQAAAAAAAgGFAAAAAAADAWkAAAAAAAJBYQAAAAAAAQGJAAAAAAAAAXUAAAAAAAABeQAAAAAAA4GJAAAAAAAAAXUAAAAAAAFBgQAAAAAAAeGBAAAAAAADgYkAAAAAAAKBYQAAAAAAAQF5AAAAAAADwWEAAAAAAACBdQAAAAAAAgF5AAAAAAABAWEAAAAAAANBeQAAAAAAAEGBAAAAAAADgZkAAAAAAACBwQAAAAAAA4GxAAAAAAABAb0AAAAAAACBsQAAAAAAAoGNAAAAAAAAgbEAAAAAAAEBvQAAAAAAAAGVAAAAAAACQakAAAAAAAPhtQAAAAAAAYGRAAAAAAAAgbEAAAAAAAEBvQAAAAAAAQGRAAAAAAADQY0AAAAAAAOBzQAAAAAAAKHlAAAAAAADgdUAAAAAAAOB1QAAAAAAAoHlAAAAAAADgc0AAAAAAAPB1QAAAAAAAAHNAAAAAAADQekAAAAAAAOB1QAAAAAAA6HRAAAAAAAAAeUA=\",\"dtype\":\"float64\",\"shape\":[58]},\"displ_count\":{\"__ndarray__\":\"AAAAAAAAEEAAAAAAAAAAQAAAAAAAABRAAAAAAAAAAEAAAAAAAAAIQAAAAAAAAPA/AAAAAAAAMEAAAAAAAADwPwAAAAAAADRAAAAAAAAAKEAAAAAAAAAgQAAAAAAAADBAAAAAAAAAKkAAAAAAAAAgQAAAAAAAAPA/AAAAAAAAAEAAAAAAAADwPwAAAAAAAPA/AAAAAAAAEEAAAAAAAAAcQAAAAAAAACRAAAAAAAAAFEAAAAAAAAAIQAAAAAAAABBAAAAAAAAAEEAAAAAAAAA3QAAAAAAAAPA/AAAAAAAANkAAAAAAAAAQQAAAAAAAAABAAAAAAAAA8D8AAAAAAAAxQAAAAAAAABxAAAAAAAAAJkAAAAAAAADwPwAAAAAAAAhAAAAAAAAAEEAAAAAAAAAoQAAAAAAAAPA/AAAAAAAAEEAAAAAAAAAAQAAAAAAAAPA/AAAAAAAAJkAAAAAAAAAQQAAAAAAAAAhAAAAAAAAAAEAAAAAAAAAgQAAAAAAAABxAAAAAAAAAAEAAAAAAAAA0QAAAAAAAABBAAAAAAAAAKEAAAAAAAAA0QAAAAAAAAPA/AAAAAAAAFEAAAAAAAAAcQAAAAAAAACRAAAAAAAAAHEA=\",\"dtype\":\"float64\",\"shape\":[58]},\"displ_max\":{\"__ndarray__\":\"AAAAAAAAVEAAAAAAAOBiQAAAAAAAwFxAAAAAAABAXkAAAAAAAOBiQAAAAAAAgGFAAAAAAADgYkAAAAAAAIBjQAAAAAAAwF1AAAAAAACAY0AAAAAAAABdQAAAAAAAgGFAAAAAAAAAXkAAAAAAAABeQAAAAAAAQGJAAAAAAACAXkAAAAAAAABeQAAAAAAA4GJAAAAAAAAAXUAAAAAAAKBhQAAAAAAAgGNAAAAAAADgYkAAAAAAAEBZQAAAAAAAQF5AAAAAAAAAW0AAAAAAAABiQAAAAAAAgF5AAAAAAABAXkAAAAAAAEBgQAAAAAAAYGBAAAAAAADgZkAAAAAAACBwQAAAAAAA4GxAAAAAAABAb0AAAAAAACBsQAAAAAAAAGVAAAAAAAAgbEAAAAAAAEBvQAAAAAAAAGVAAAAAAABAb0AAAAAAAGBwQAAAAAAAYGRAAAAAAAAgbEAAAAAAAEBvQAAAAAAAAGVAAAAAAABgZEAAAAAAAGB4QAAAAAAAcHxAAAAAAADgdUAAAAAAAGB8QAAAAAAAgHtAAAAAAADwd0AAAAAAANB6QAAAAAAAAHNAAAAAAADQekAAAAAAAOB1QAAAAAAAgHtAAAAAAABwfEA=\",\"dtype\":\"float64\",\"shape\":[58]},\"displ_mean\":{\"__ndarray__\":\"AAAAAAAgUkAAAAAAAABhQM3MzMzMjFpAAAAAAABAXkBVVVVVVTVhQAAAAAAAgGFAAAAAAAA4XkAAAAAAAIBjQAAAAAAA8FdAq6qqqqoyXUAAAAAAAAhXQAAAAAAAmF9A7MRO7MROWEAAAAAAANhXQAAAAAAAQGJAAAAAAACAW0AAAAAAAABeQAAAAAAA4GJAAAAAAADQW0Dbtm3btq1dQAAAAAAAoFxAAAAAAACgYUAAAAAAAABXQAAAAAAAMF1AAAAAAADwWEAhC1nIQlZaQAAAAAAAgF5Ao4suuujCV0AAAAAAANBeQAAAAAAAgF9AAAAAAADgZkB4eHh4eHhtQLdt27Zt+2tAL7rooovubEAAAAAAACBsQKuqqqqqKmNAAAAAAAAgbEAAAAAAAChsQAAAAAAAAGVAAAAAAAAoaUAAAAAAADBrQAAAAAAAYGRAdNFFF100a0AAAAAAABBuQAAAAAAAAGRAAAAAAABAY0AAAAAAABx0QAAAAAAAwHdAAAAAAADgdUAzMzMzMyt1QAAAAAAAAHlAVVVVVVWNdEAzMzMzMyN1QAAAAAAAAHNAmpmZmZmpdkBu27Zt23ZzQJqZmZmZCXVA27Zt27Z9eUA=\",\"dtype\":\"float64\",\"shape\":[58]},\"displ_min\":{\"__ndarray__\":\"AAAAAACAUUAAAAAAAEBeQAAAAAAAQFhAAAAAAABAXkAAAAAAAMBbQAAAAAAAgGFAAAAAAABAVUAAAAAAAIBjQAAAAAAAAFJAAAAAAACAVkAAAAAAAABRQAAAAAAAgFhAAAAAAABAVEAAAAAAAIBTQAAAAAAAQGJAAAAAAACAWEAAAAAAAABeQAAAAAAA4GJAAAAAAABAWEAAAAAAAMBTQAAAAAAAgFVAAAAAAAAAXEAAAAAAAMBTQAAAAAAAAFpAAAAAAABAWEAAAAAAAMBRQAAAAAAAgF5AAAAAAADAU0AAAAAAAEBeQAAAAAAAQF5AAAAAAADgZkAAAAAAAOBoQAAAAAAAoGZAAAAAAACgZUAAAAAAACBsQAAAAAAAQGJAAAAAAAAgbEAAAAAAAGBlQAAAAAAAAGVAAAAAAABgY0AAAAAAAKBlQAAAAAAAYGRAAAAAAADAaEAAAAAAAOBsQAAAAAAAgGNAAAAAAAAgYkAAAAAAAABzQAAAAAAA4HVAAAAAAADgdUAAAAAAAGBwQAAAAAAAgHZAAAAAAADgc0AAAAAAAOByQAAAAAAAAHNAAAAAAADgckAAAAAAAEBwQAAAAAAA4HNAAAAAAAAAeUA=\",\"dtype\":\"float64\",\"shape\":[58]},\"displ_std\":{\"__ndarray__\":\"AAAAAAAAFEAQSBeAlDY1QND+0iqIDSFAAAAAAAAAAADkP/QWERg3QAAAAAAAAPh/+dfIUHQBNkAAAAAAAAD4f/nXYs/oXy9AxlMEvhOzOECcmejwqUMuQEJ62kW6XTBA7/H89MrVJEDxy9ekg5ovQAAAAAAAAPh/2WzfzHb4MEAAAAAAAAD4fwAAAAAAAPh/AAAAAAAAI0Aa/8QMgwU1QMkv4IyP+DVA6BO8GJHlMEAyXl4LrBAnQAAAAAAAACFAAAAAAAAAFkADTF/qck41QAAAAAAAAPh/ueUP92yCIEAAAAAAAAASQMAKHwDGSBxAAAAAAAAA+H8NBy84wzoyQKw5M/zx5TJAhDQMOmhCQEAAAAAAAAD4f0ZGpv9FZylAAAAAAAAAAABMLSA/PfE8QAAAAAAAAPh/0EggZLxnQ0Ao74hGXHdPQAAAAAAAAPh/pawegC45KUCxPJuidvAlQKpMWOh6thtARiNPM7J0KUBdkHKATOpAQOzL2mkMnklAAAAAAAAAAADTDvECpxJIQKebB2Z2VEBAVTCdeBxNOUBImiRDcqJDQAAAAAAAAPh/5Oc7bEXqT0DbMo/ysg1IQOdiu+j4fENAC1k4Yr3JNEA=\",\"dtype\":\"float64\",\"shape\":[58]},\"hp_25%\":{\"__ndarray__\":\"AAAAAADQV0AAAAAAAKBUQAAAAAAAwFRAAAAAAACwW0AAAAAAAIBUQAAAAAAAAFdAAAAAAABgUUAAAAAAAABXQAAAAAAAoFBAAAAAAADwU0AAAAAAACBRQAAAAAAAUFNAAAAAAAAATkAAAAAAAEBQQAAAAAAAwFBAAAAAAACAUkAAAAAAAABWQAAAAAAAQFVAAAAAAABQU0AAAAAAAOBSQAAAAAAAYFBAAAAAAABAVUAAAAAAAMBPQAAAAAAAkFpAAAAAAADAUEAAAAAAAOBQQAAAAAAAAFZAAAAAAABASkAAAAAAAEBZQAAAAAAAAFNAAAAAAABAU0AAAAAAAIBWQAAAAAAA4FpAAAAAAAAAWUAAAAAAAEBVQAAAAAAAIFtAAAAAAABgWEAAAAAAAABVQAAAAAAAAF5AAAAAAABwVEAAAAAAACBXQAAAAAAAoGBAAAAAAADAV0AAAAAAAPBZQAAAAAAAAFxAAAAAAAAQVkAAAAAAAMBiQAAAAAAAYGNAAAAAAABYYUAAAAAAADBhQAAAAAAAgGZAAAAAAAD4YUAAAAAAAHhhQAAAAAAAIGhAAAAAAABAYUAAAAAAAOBaQAAAAAAAwGJAAAAAAADgZUA=\",\"dtype\":\"float64\",\"shape\":[58]},\"hp_50%\":{\"__ndarray__\":\"AAAAAACgWEAAAAAAAEBVQAAAAAAAgFZAAAAAAADgW0AAAAAAAABVQAAAAAAAAFdAAAAAAACgU0AAAAAAAABXQAAAAAAAgFFAAAAAAABgVEAAAAAAAMBSQAAAAAAAYFVAAAAAAADAUEAAAAAAAABRQAAAAAAAwFBAAAAAAACAU0AAAAAAAABWQAAAAAAAQFVAAAAAAADgU0AAAAAAAMBVQAAAAAAAgFFAAAAAAAAAVkAAAAAAAEBRQAAAAAAAIFxAAAAAAADAUEAAAAAAAMBSQAAAAAAAAFZAAAAAAACAUUAAAAAAAMBaQAAAAAAAQFVAAAAAAABAU0AAAAAAAABZQAAAAAAAgFtAAAAAAABAWkAAAAAAAEBVQAAAAAAAAF5AAAAAAABAWkAAAAAAAABWQAAAAAAAAF5AAAAAAABAVUAAAAAAAABZQAAAAAAAoGBAAAAAAAAAWUAAAAAAAOBaQAAAAAAAAF1AAAAAAAAgWUAAAAAAAMBiQAAAAAAAoGRAAAAAAAAQY0AAAAAAACBiQAAAAAAAwGdAAAAAAADAYkAAAAAAACBiQAAAAAAAIGhAAAAAAABgYUAAAAAAAIBbQAAAAAAAwGJAAAAAAADgZUA=\",\"dtype\":\"float64\",\"shape\":[58]},\"hp_75%\":{\"__ndarray__\":\"AAAAAACgWUAAAAAAAOBVQAAAAAAAwFZAAAAAAAAQXEAAAAAAAMBVQAAAAAAAAFdAAAAAAAAgVkAAAAAAAABXQAAAAAAAIFdAAAAAAAAAVUAAAAAAAKBTQAAAAAAAAFZAAAAAAAAAUkAAAAAAAGBRQAAAAAAAwFBAAAAAAACAVEAAAAAAAABWQAAAAAAAQFVAAAAAAADQVEAAAAAAAOBVQAAAAAAAAFVAAAAAAACAVkAAAAAAAABTQAAAAAAAwFxAAAAAAABgUkAAAAAAAMBXQAAAAAAAAFZAAAAAAABQUkAAAAAAAABcQAAAAAAAgFdAAAAAAABAU0AAAAAAAABZQAAAAAAAgFtAAAAAAADgWkAAAAAAAEBVQAAAAAAAgF9AAAAAAACAW0AAAAAAAJBWQAAAAAAAAF5AAAAAAACgVkAAAAAAAOBaQAAAAAAAoGBAAAAAAACgWUAAAAAAANBbQAAAAAAAwF1AAAAAAAAwXEAAAAAAAIhjQAAAAAAAAGlAAAAAAADIZEAAAAAAADhjQAAAAAAAiGhAAAAAAABgY0AAAAAAAEhjQAAAAAAAIGhAAAAAAADAaEAAAAAAAEBlQAAAAAAAsGNAAAAAAABQaUA=\",\"dtype\":\"float64\",\"shape\":[58]},\"hp_count\":{\"__ndarray__\":\"AAAAAAAAEEAAAAAAAAAAQAAAAAAAABRAAAAAAAAAAEAAAAAAAAAIQAAAAAAAAPA/AAAAAAAAMEAAAAAAAADwPwAAAAAAADRAAAAAAAAAKEAAAAAAAAAgQAAAAAAAADBAAAAAAAAAKkAAAAAAAAAgQAAAAAAAAPA/AAAAAAAAAEAAAAAAAADwPwAAAAAAAPA/AAAAAAAAEEAAAAAAAAAcQAAAAAAAACRAAAAAAAAAFEAAAAAAAAAIQAAAAAAAABBAAAAAAAAAEEAAAAAAAAA3QAAAAAAAAPA/AAAAAAAANkAAAAAAAAAQQAAAAAAAAABAAAAAAAAA8D8AAAAAAAAxQAAAAAAAABxAAAAAAAAAJkAAAAAAAADwPwAAAAAAAAhAAAAAAAAAEEAAAAAAAAAoQAAAAAAAAPA/AAAAAAAAEEAAAAAAAAAAQAAAAAAAAPA/AAAAAAAAJkAAAAAAAAAQQAAAAAAAAAhAAAAAAAAAAEAAAAAAAAAgQAAAAAAAABxAAAAAAAAAAEAAAAAAAAA0QAAAAAAAABBAAAAAAAAAKEAAAAAAAAA0QAAAAAAAAPA/AAAAAAAAFEAAAAAAAAAcQAAAAAAAACRAAAAAAAAAHEA=\",\"dtype\":\"float64\",\"shape\":[58]},\"hp_max\":{\"__ndarray__\":\"AAAAAACAW0AAAAAAAIBWQAAAAAAAwFdAAAAAAABAXEAAAAAAAIBWQAAAAAAAAFdAAAAAAACAVkAAAAAAAABXQAAAAAAAAFlAAAAAAABAWkAAAAAAAIBWQAAAAAAAAFdAAAAAAABAWEAAAAAAAMBSQAAAAAAAwFBAAAAAAACAVUAAAAAAAABWQAAAAAAAQFVAAAAAAACAVkAAAAAAAABWQAAAAAAAQFpAAAAAAACAVkAAAAAAAMBUQAAAAAAAwFxAAAAAAABAV0AAAAAAAEBYQAAAAAAAAFZAAAAAAACAU0AAAAAAAABcQAAAAAAAwFlAAAAAAABAU0AAAAAAAABeQAAAAAAAoGRAAAAAAADAXEAAAAAAAEBVQAAAAAAAgGBAAAAAAACAW0AAAAAAAABcQAAAAAAAAF5AAAAAAADAWkAAAAAAAMBcQAAAAAAAoGBAAAAAAABAWkAAAAAAAMBcQAAAAAAAgF5AAAAAAABAX0AAAAAAAMBnQAAAAAAAIGxAAAAAAACAZkAAAAAAAIBrQAAAAAAA4GpAAAAAAABAakAAAAAAAOBqQAAAAAAAIGhAAAAAAAAAakAAAAAAAIBmQAAAAAAA4GpAAAAAAADAbEA=\",\"dtype\":\"float64\",\"shape\":[58]},\"hp_mean\":{\"__ndarray__\":\"AAAAAADQWEAAAAAAAEBVQJqZmZmZ2VVAAAAAAADgW0CrqqqqqipVQAAAAAAAAFdAAAAAAABYU0AAAAAAAABXQM3MzMzMvFNAq6qqqqraVEAAAAAAAFhSQAAAAAAASFRAYid2Yif2UEAAAAAAALhQQAAAAAAAwFBAAAAAAACAU0AAAAAAAABWQAAAAAAAQFVAAAAAAABAVEBJkiRJkmRUQJqZmZmZOVNAzczMzMyMVUAAAAAAAIBRQAAAAAAAMFtAAAAAAABgUkDTm970pvdTQAAAAAAAAFZA6aKLLroIUEAAAAAAAIBaQAAAAAAAQFVAAAAAAABAU0Di4eHh4eFYQLdt27ZtG11ARhdddNEFWkAAAAAAAEBVQFVVVVVVFV1AAAAAAACgWUBVVVVVVRVWQAAAAAAAAF5AAAAAAADQVUAAAAAAAABZQAAAAAAAoGBARhdddNHFWEAAAAAAAOBaQFVVVVVV1VxAAAAAAAAgWUAAAAAAAExjQCVJkiRJUmZAAAAAAAAQY0AAAAAAAMhiQAAAAAAASGdAq6qqqqp6Y0BmZmZmZu5iQAAAAAAAIGhAMzMzMzNTZEAlSZIkSbJgQAAAAAAA8GNAAAAAAADAZ0A=\",\"dtype\":\"float64\",\"shape\":[58]},\"hp_min\":{\"__ndarray__\":\"AAAAAACAVkAAAAAAAABUQAAAAAAAgFNAAAAAAACAW0AAAAAAAABUQAAAAAAAAFdAAAAAAAAASkAAAAAAAABXQAAAAAAAgE5AAAAAAADAUkAAAAAAAIBIQAAAAAAAQFBAAAAAAACASkAAAAAAAABKQAAAAAAAwFBAAAAAAACAUUAAAAAAAABWQAAAAAAAQFVAAAAAAADAUkAAAAAAAIBRQAAAAAAAgE9AAAAAAACAU0AAAAAAAABNQAAAAAAAwFdAAAAAAADAUEAAAAAAAABKQAAAAAAAAFZAAAAAAAAAR0AAAAAAAIBYQAAAAAAAwFBAAAAAAABAU0AAAAAAAIBWQAAAAAAAQFpAAAAAAADAV0AAAAAAAEBVQAAAAAAAQFhAAAAAAACAVkAAAAAAAABSQAAAAAAAAF5AAAAAAAAAUkAAAAAAAEBVQAAAAAAAoGBAAAAAAADAV0AAAAAAAABZQAAAAAAAAFtAAAAAAAAAU0AAAAAAAABeQAAAAAAAwGJAAAAAAABAX0AAAAAAAIBbQAAAAAAAwGJAAAAAAADgYEAAAAAAACBgQAAAAAAAIGhAAAAAAABAYEAAAAAAAIBWQAAAAAAAwGJAAAAAAABAZUA=\",\"dtype\":\"float64\",\"shape\":[58]},\"hp_std\":{\"__ndarray__\":\"sTIWI2yaIEDACh8AxkgcQM2mvFe3NxtA2WzfzHb4AEA9iuQyBSIUQAAAAAAAAPh/LxLx8lwQKUAAAAAAAAD4f7oBlQW4kSxAKyfK5qleIEDIXtM5uhcpQCLax4ZuQSJAmr4/3QmgJkAEGqqKID0cQAAAAAAAAPh/zTt/Zp6gJkAAAAAAAAD4fwAAAAAAAPh/ZBImSkfsGUBYoQIYXR4gQPI+Tscsci1AOwacb3AUFEDkEORzVw8pQDylNHUA7iJAAAAAAAAAKkDA1T6E9ZotQAAAAAAAAPh/R+IBRJI+J0B4fOOq4ngcQEYjTzOydDlAAAAAAAAA+H8OCGcakIkhQDvrojUbjDVAAFRCNN9aF0AAAAAAAAD4f1p+aLQnyTFAyFjS2wYmI0BKVjPp6rMkQAAAAAAAAPh/C73Aw8ILLUAQSBeAlDY1QAAAAAAAAPh/Jna3ky16EUC1wWw+5NEZQIGe5vFWGBxAyWl5RvlSQUB34pp5zZo0QKdc+kkcYEBAZFcVIAhyQ0DmC02WHw05QOlioZ4Z4zpAMoQKyAEyNUDMHEDTpyA2QAAAAAAAAPh/0QbwVkCbQkA+baHJ9i9DQEApF6jZmzRAtcFsPuTROUA=\",\"dtype\":\"float64\",\"shape\":[58]},\"mpg_25%\":{\"__ndarray__\":\"AAAAAADAMkA0MzMzMxM5QAAAAAAAADdAAAAAAACgNkAAAAAAAIA7QAAAAAAAADlAAAAAAADgOEAAAAAAAAA6QGZmZmZmJjtAzMzMzMxsO0AAAAAAAAA6QDMzMzMz0zZAAAAAAAAAQEBnZmZmZoY/QAAAAAAAAD5AAAAAAABAOkAAAAAAAABCQM3MzMzMzDdAAAAAAADAOEAAAAAAAAA2QM3MzMzMTDpAAAAAAACAOEAAAAAAAIA6QGZmZmZmZjdAAAAAAAAAPUAAAAAAAIA4QAAAAAAAgEFAAAAAAABAOkAAAAAAAMAyQDQzMzMzUzhAZmZmZmZmOUAAAAAAAAAyQJqZmZmZGTNAAAAAAAAAMECamZmZmZkxQJqZmZmZGTdAmpmZmZn5MkAAAAAAAAAyQAAAAAAAgDBAmpmZmZmZMkCamZmZmZk9QDMzMzMzMzBAAAAAAAAAMkAAAAAAAOAyQAAAAAAAgDNAzczMzMxsNEAAAAAAAAAsQAAAAAAAACpAAAAAAAAgMkAAAAAAAAAqQAAAAAAAACpAAAAAAACAK0AAAAAAAAAqQAAAAAAAACJAAAAAAAAAKEAAAAAAAAAoQAAAAAAAACxAAAAAAAAALEA=\",\"dtype\":\"float64\",\"shape\":[58]},\"mpg_50%\":{\"__ndarray__\":\"AAAAAABANECamZmZmdk5QAAAAAAAADhAAAAAAADAN0BmZmZmZmY8QAAAAAAAADlAAAAAAAAAPEAAAAAAAAA6QAAAAAAAAEBAAAAAAACAPEAAAAAAAIA8QAAAAAAAwDlAAAAAAACAQECamZmZmblAQAAAAAAAAD5AAAAAAACAPUAAAAAAAABCQM3MzMzMzDdAAAAAAACAOUAAAAAAAAA5QM3MzMzMDEBAAAAAAAAAO0AAAAAAAAA7QAAAAAAAgDhAZmZmZmYmP0AAAAAAAAA9QAAAAAAAgEFAZmZmZmamPUAAAAAAAIAzQJqZmZmZWTxAZmZmZmZmOUCamZmZmRkyQJqZmZmZmTRAAAAAAACAMUCamZmZmZkxQDMzMzMzMzhAzczMzMyMM0AAAAAAAMAyQAAAAAAAgDBAzczMzMxMNEAzMzMzMzNAQDMzMzMzMzBAAAAAAAAAM0CamZmZmRkzQAAAAAAAADRAmpmZmZnZN0AAAAAAAAAuQAAAAAAAACpAAAAAAADAM0AAAAAAAAAuQAAAAAAAgCxAAAAAAAAALkAAAAAAAAAsQAAAAAAAACJAAAAAAAAALkAAAAAAAAAxQAAAAAAAACxAAAAAAAAALEA=\",\"dtype\":\"float64\",\"shape\":[58]},\"mpg_75%\":{\"__ndarray__\":\"zczMzMwMNkD//////586QAAAAAAAAD1AAAAAAADgOEAzMzMzMzM9QAAAAAAAADlAAAAAAAAgPkAAAAAAAAA6QAAAAAAAgEJAAAAAAAAwQEAAAAAAAEA+QAAAAAAAQDtAAAAAAAAAQkCamZmZmWlBQAAAAAAAAD5AAAAAAABgQEAAAAAAAABCQM3MzMzMzDdAAAAAAACAOkBmZmZmZqY7QDQzMzMzU0FAAAAAAAAAP0AAAAAAAIA/QAAAAAAAADlAZmZmZmZWQEDNzMzMzAxAQAAAAAAAgEFAAAAAAACgQUAAAAAAAIA0QAAAAAAAMEBAZmZmZmZmOUBmZmZmZmYzQDMzMzMzszVAAAAAAABANUCamZmZmZkxQDQzMzMzczxAZmZmZmYmNEBmZmZmZmY0QAAAAAAAgDBAmpmZmZnZNECamZmZmZlBQDMzMzMzMzBAAAAAAABANUBmZmZmZsYzQDMzMzMzszZAZmZmZmZGO0AAAAAAAEAvQAAAAAAAAC1AAAAAAABgNUAAAAAAAIAxQAAAAAAAQDBAAAAAAABgMEAAAAAAAEAvQAAAAAAAACJAAAAAAACAMEBmZmZmZuY1QAAAAAAAgC1AAAAAAAAAMEA=\",\"dtype\":\"float64\",\"shape\":[58]},\"mpg_count\":{\"__ndarray__\":\"AAAAAAAAEEAAAAAAAAAAQAAAAAAAABRAAAAAAAAAAEAAAAAAAAAIQAAAAAAAAPA/AAAAAAAAMEAAAAAAAADwPwAAAAAAADRAAAAAAAAAKEAAAAAAAAAgQAAAAAAAADBAAAAAAAAAKkAAAAAAAAAgQAAAAAAAAPA/AAAAAAAAAEAAAAAAAADwPwAAAAAAAPA/AAAAAAAAEEAAAAAAAAAcQAAAAAAAACRAAAAAAAAAFEAAAAAAAAAIQAAAAAAAABBAAAAAAAAAEEAAAAAAAAA3QAAAAAAAAPA/AAAAAAAANkAAAAAAAAAQQAAAAAAAAABAAAAAAAAA8D8AAAAAAAAxQAAAAAAAABxAAAAAAAAAJkAAAAAAAADwPwAAAAAAAAhAAAAAAAAAEEAAAAAAAAAoQAAAAAAAAPA/AAAAAAAAEEAAAAAAAAAAQAAAAAAAAPA/AAAAAAAAJkAAAAAAAAAQQAAAAAAAAAhAAAAAAAAAAEAAAAAAAAAgQAAAAAAAABxAAAAAAAAAAEAAAAAAAAA0QAAAAAAAABBAAAAAAAAAKEAAAAAAAAA0QAAAAAAAAPA/AAAAAAAAFEAAAAAAAAAcQAAAAAAAACRAAAAAAAAAHEA=\",\"dtype\":\"float64\",\"shape\":[58]},\"mpg_max\":{\"__ndarray__\":\"MzMzMzOzN0BmZmZmZmY7QGZmZmZmJkFAAAAAAAAAOkAAAAAAAAA+QAAAAAAAADlAAAAAAAAAQUAAAAAAAAA6QGZmZmZmZkRAAAAAAAAAQkBmZmZmZqZCQM3MzMzMDEJAzczMzMxMRkDNzMzMzExHQAAAAAAAAD5AAAAAAAAAQkAAAAAAAABCQM3MzMzMzDdAAAAAAAAAPEAAAAAAAAA+QAAAAAAAgENAAAAAAADAQEAAAAAAAABCQAAAAAAAADlAZmZmZmbmQEDNzMzMzIxDQAAAAAAAgEFAZmZmZmYmRkAAAAAAAAA2QDMzMzMzM0JAZmZmZmZmOUAAAAAAAIA2QAAAAAAAADlAzczMzMzMPECamZmZmZkxQJqZmZmZWUBAmpmZmZmZNEAAAAAAAAA4QAAAAAAAgDBAAAAAAAAANUAAAAAAAABDQDMzMzMzMzBAAAAAAAAAN0AAAAAAAIA1QGZmZmZmZjlAMzMzMzOzPkAAAAAAAAAxQGZmZmZm5jBAAAAAAAAAN0AAAAAAAAA0QAAAAAAAgDJAZmZmZmZmM0CamZmZmRkyQAAAAAAAACJAMzMzMzMzNECamZmZmZk6QAAAAAAAADJAAAAAAAAAMEA=\",\"dtype\":\"float64\",\"shape\":[58]},\"mpg_mean\":{\"__ndarray__\":\"zczMzMyMNECamZmZmdk5QJDC9ShcDzpAAAAAAADAN0BVVVVVVVU8QAAAAAAAADlAmpmZmZlRO0AAAAAAAAA6QPUoXI/C1T9AERERERHRPUCamZmZmek8QDIzMzMzAzpAF3qhF3rhQEAAAAAAAGhBQAAAAAAAAD5AAAAAAACAPUAAAAAAAABCQM3MzMzMzDdAAAAAAADAOUAd1EEd1ME4QHsUrkfhOj9AzczMzMzMO0Crqqqqqqo9QGZmZmZm5jdAZmZmZmaGPkBqq8FzBAo9QAAAAAAAgEFAFl100UXXP0AAAAAAAMAzQJqZmZmZWTxAZmZmZmZmOUAhISEhIaEyQJmZmZmZmTRAnxLkKUEeM0CamZmZmZkxQM3MzMzMTDpANDMzMzOTM0AzMzMzM1MzQAAAAAAAgDBAZmZmZmYmM0AzMzMzMzNAQDMzMzMzMzBAF1100UWXM0DNzMzMzIwzQHh3d3d3dzVAmpmZmZnZN0AAAAAAAOAtQPmKr/iKrytAAAAAAADAM0AK16NwPUouQAAAAAAAAC5ARERERERELkDrUbgehassQAAAAAAAACJA4noUrkfhLUDGV3zFV3wxQAAAAAAAAC1A27Zt27ZtLUA=\",\"dtype\":\"float64\",\"shape\":[58]},\"mpg_min\":{\"__ndarray__\":\"AAAAAAAAMkDNzMzMzEw4QAAAAAAAADRAAAAAAACANUCamZmZmZk6QAAAAAAAADlAAAAAAAAANEAAAAAAAAA6QAAAAAAAADZAAAAAAAAAOUAAAAAAAAA4QAAAAAAAADNAAAAAAAAAOEAAAAAAAAA/QAAAAAAAAD5AAAAAAAAAN0AAAAAAAABCQM3MzMzMzDdAAAAAAAAAOEAAAAAAAAAzQDMzMzMzMzdAAAAAAAAAN0AAAAAAAAA6QJqZmZmZmTVAAAAAAAAAOkAAAAAAAAA0QAAAAAAAgEFAAAAAAAAANkAAAAAAAAAyQM3MzMzMTDRAZmZmZmZmOUAAAAAAAAAuQAAAAAAAADFAAAAAAAAALkCamZmZmZkxQAAAAAAAADZAmpmZmZmZMkAAAAAAAAAuQAAAAAAAgDBAAAAAAAAALkDNzMzMzMw6QDMzMzMzMzBAAAAAAAAAMEAAAAAAAIAyQAAAAAAAADNAAAAAAAAAMUAAAAAAAAAqQAAAAAAAAChAAAAAAACAMEAAAAAAAAAkQAAAAAAAACpAAAAAAAAAJkAAAAAAAAAkQAAAAAAAACJAAAAAAAAAJkAAAAAAAAAmQAAAAAAAACpAAAAAAAAAKkA=\",\"dtype\":\"float64\",\"shape\":[58]},\"mpg_std\":{\"__ndarray__\":\"ca9eOxmEBEDuZ2+PR4kBQEoKBd4JhxZARiNPM7J0CUBFpF/rNjf7PwAAAAAAAPh/urWdO9DbD0AAAAAAAAD4f2F5uw9NCBZAPs/+nwk+DkBkzHIpO2kQQDLD7CMzNhJAcb+tQ7cOE0Afg1pvTZ4UQAAAAAAAAPh/lmBHs4BiIkAAAAAAAAD4fwAAAAAAAPh/DGLpcEBT+z8dTFSH0NYPQHeSF+RxURZAtk+agoaVEUDKBtSSwAcWQCpmF/6kqvk/z+0aa+0tC0CNRJ/7lD4VQAAAAAAAAPh/M1/gQ+RmHEAMYulwQFP7P5I6I5fSxCZAAAAAAAAA+H9x2LOz9Cn8PzIJf4/TsgVAkwuaddjbEEAAAAAAAAD4f9z6Q5RHmhZAr6hmWJaq7D8UE9sdnakCQAAAAAAAAPh/a1a8aTiHBkBR7X6Pqq0fQAAAAAAAAPh/gtY0vSoMAUAptL5boFP1Py2Bit39igtAAVjDB+5fI0CVfHAmaUH0P1zHVUIgUvo/lmBHs4BiEkAOM5pJpl8GQNiUMqma6QRAGf4MvyO6A0D19nIPF17/PwAAAAAAAPh/8szklsJ3DUCH39aAveYYQC+gIkHPJfg/TDtjlJsO9D8=\",\"dtype\":\"float64\",\"shape\":[58]},\"weight_25%\":{\"__ndarray__\":\"AAAAAADNoUAAAAAAgIKlQAAAAAAAVqFAAAAAAAArokAAAAAAALaiQAAAAAAAGKRAAAAAAIDjoEAAAAAAADKkQAAAAAAAJ59AAAAAAICboEAAAAAAgAGgQAAAAAAAdaJAAAAAAAAgnEAAAAAAAPqeQAAAAAAAZKlAAAAAAIDJoEAAAAAAAOCgQAAAAAAATqZAAAAAAIDKoEAAAAAAAP2lQAAAAACApqBAAAAAAAAepEAAAAAAAFyfQAAAAACAOaRAAAAAAAD0n0AAAAAAADagQAAAAAAAiKNAAAAAAABEnkAAAAAAgMmmQAAAAAAAWKZAAAAAAACUq0AAAAAAAKqmQAAAAAAAE6lAAAAAAAAhqUAAAAAAABKrQAAAAAAAXaZAAAAAAIBfqkAAAAAAgEanQAAAAAAA2K1AAAAAAABZpkAAAAAAgLWlQAAAAAAApKpAAAAAAABPqEAAAAAAgJGpQAAAAAAAS6ZAAAAAAACSqEAAAAAAALCsQAAAAAAAca5AAAAAAABor0AAAAAAgNitQAAAAADAhLBAAAAAAABMrUAAAAAAAD6vQAAAAAAAfLJAAAAAAADmrkAAAAAAAKyrQAAAAACADK9AAAAAAIDrsEA=\",\"dtype\":\"float64\",\"shape\":[58]},\"weight_50%\":{\"__ndarray__\":\"AAAAAACOokAAAAAAACmmQAAAAAAA/KJAAAAAAADiokAAAAAAAJakQAAAAAAAGKRAAAAAAADJokAAAAAAADKkQAAAAAAAVKBAAAAAAACFoUAAAAAAAI6gQAAAAAAARqRAAAAAAAC0nkAAAAAAAFSfQAAAAAAAZKlAAAAAAAD5oEAAAAAAAOCgQAAAAAAATqZAAAAAAAAaoUAAAAAAAEanQAAAAAAAP6FAAAAAAABApEAAAAAAABqhQAAAAAAA06RAAAAAAAByoEAAAAAAALKhQAAAAAAAiKNAAAAAAAD6nkAAAAAAAPamQAAAAAAAlKZAAAAAAACUq0AAAAAAABqoQAAAAAAArqpAAAAAAAAQqkAAAAAAABKrQAAAAAAAvKZAAAAAAABZq0AAAAAAAMGnQAAAAAAA2K1AAAAAAACsp0AAAAAAAFOmQAAAAAAApKpAAAAAAACAqUAAAAAAAKGqQAAAAAAAqKZAAAAAAACcqEAAAAAAAPetQAAAAAAACLFAAAAAAAAssEAAAAAAAPSvQAAAAACAFbFAAAAAAADmrkAAAAAAgFiwQAAAAAAAfLJAAAAAAADHsEAAAAAAABqtQAAAAACAE7BAAAAAAABJsUA=\",\"dtype\":\"float64\",\"shape\":[58]},\"weight_75%\":{\"__ndarray__\":\"AAAAAAB+o0AAAAAAgM+mQAAAAAAALKRAAAAAAACZo0AAAAAAALmkQAAAAAAAGKRAAAAAAIBrpEAAAAAAADKkQAAAAACAH6JAAAAAAIDRokAAAAAAgJWhQAAAAACAl6VAAAAAAAA6oUAAAAAAAFShQAAAAAAAZKlAAAAAAIAooUAAAAAAAOCgQAAAAAAATqZAAAAAAACAoUAAAAAAABSpQAAAAACAd6JAAAAAAABepUAAAAAAACehQAAAAAAAHKVAAAAAAAA9oUAAAAAAAA6jQAAAAAAAiKNAAAAAAAAFoUAAAAAAgGinQAAAAAAA0KZAAAAAAACUq0AAAAAAAIKpQAAAAAAA1qpAAAAAAABDq0AAAAAAABKrQAAAAAAA0KZAAAAAAIBXrEAAAAAAAPSoQAAAAAAA2K1AAAAAAACxqEAAAAAAgPCmQAAAAAAApKpAAAAAAACMq0AAAAAAANWrQAAAAAAAxqZAAAAAAACmqEAAAAAAAIuuQAAAAACA+LFAAAAAAACksEAAAAAAAMawQAAAAABAlLFAAAAAAACOsEAAAAAAAEqxQAAAAAAAfLJAAAAAAAAZskAAAAAAAKKwQAAAAABAxbBAAAAAAADWsUA=\",\"dtype\":\"float64\",\"shape\":[58]},\"weight_count\":{\"__ndarray__\":\"AAAAAAAAEEAAAAAAAAAAQAAAAAAAABRAAAAAAAAAAEAAAAAAAAAIQAAAAAAAAPA/AAAAAAAAMEAAAAAAAADwPwAAAAAAADRAAAAAAAAAKEAAAAAAAAAgQAAAAAAAADBAAAAAAAAAKkAAAAAAAAAgQAAAAAAAAPA/AAAAAAAAAEAAAAAAAADwPwAAAAAAAPA/AAAAAAAAEEAAAAAAAAAcQAAAAAAAACRAAAAAAAAAFEAAAAAAAAAIQAAAAAAAABBAAAAAAAAAEEAAAAAAAAA3QAAAAAAAAPA/AAAAAAAANkAAAAAAAAAQQAAAAAAAAABAAAAAAAAA8D8AAAAAAAAxQAAAAAAAABxAAAAAAAAAJkAAAAAAAADwPwAAAAAAAAhAAAAAAAAAEEAAAAAAAAAoQAAAAAAAAPA/AAAAAAAAEEAAAAAAAAAAQAAAAAAAAPA/AAAAAAAAJkAAAAAAAAAQQAAAAAAAAAhAAAAAAAAAAEAAAAAAAAAgQAAAAAAAABxAAAAAAAAAAEAAAAAAAAA0QAAAAAAAABBAAAAAAAAAKEAAAAAAAAA0QAAAAAAAAPA/AAAAAAAAFEAAAAAAAAAcQAAAAAAAACRAAAAAAAAAHEA=\",\"dtype\":\"float64\",\"shape\":[58]},\"weight_max\":{\"__ndarray__\":\"AAAAAABApUAAAAAAAHanQAAAAAAADKVAAAAAAABQpEAAAAAAANykQAAAAAAAGKRAAAAAAAAMp0AAAAAAADKkQAAAAAAAbqRAAAAAAADgpUAAAAAAAECjQAAAAAAAlKZAAAAAAAByo0AAAAAAAJakQAAAAAAAZKlAAAAAAABYoUAAAAAAAOCgQAAAAAAATqZAAAAAAAD4oUAAAAAAAIypQAAAAAAAcqVAAAAAAABopUAAAAAAADShQAAAAAAA1qVAAAAAAACuokAAAAAAAC6lQAAAAAAAiKNAAAAAAACeo0AAAAAAAJyoQAAAAAAADKdAAAAAAACUq0AAAAAAACStQAAAAAAAhq5AAAAAAAByrkAAAAAAABKrQAAAAAAA5KZAAAAAAACGrEAAAAAAAOyrQAAAAAAA2K1AAAAAAADQqkAAAAAAAI6nQAAAAAAApKpAAAAAAACSrUAAAAAAAHqsQAAAAAAA5KZAAAAAAACwqEAAAAAAAKGwQAAAAAAAV7NAAAAAAAAcsUAAAAAAAIWzQAAAAAAAf7JAAAAAAABbs0AAAAAAACqzQAAAAAAAfLJAAAAAAABYs0AAAAAAAJOxQAAAAAAALrJAAAAAAAAUtEA=\",\"dtype\":\"float64\",\"shape\":[58]},\"weight_mean\":{\"__ndarray__\":\"AAAAAAC9okAAAAAAACmmQDMzMzMz7aJAAAAAAADiokBVVVVVVW2jQAAAAAAAGKRAAAAAAADRokAAAAAAADKkQJqZmZmZw6BAVVVVVVXnoUAAAAAAQL6gQAAAAADAsKNA2Ymd2Imdn0AAAAAAwNKgQAAAAAAAZKlAAAAAAAD5oEAAAAAAAOCgQAAAAAAATqZAAAAAAIAwoUBJkiRJkrymQAAAAAAAiKFAMzMzMzOfpEAAAAAAADCgQAAAAACAgqRAAAAAAADFoECykIUsZHWhQAAAAAAAiKNAF1100UX3n0AAAAAAADynQAAAAAAAlKZAAAAAAACUq0AtLS0tLSuoQCVJkiRJSqpAF1100UXfqUAAAAAAABKrQAAAAAAAiqZAAAAAAABeq0CrqqqqqjGoQAAAAAAA2K1AAAAAAABep0AAAAAAAFOmQAAAAAAApKpARhdddNHRqUAAAAAAgMWqQAAAAAAAfqZAAAAAAACcqEAAAAAAwNetQNu2bdu2ZrBAAAAAAAAssEDNzMzMTJ+vQAAAAACAA7FAVVVVVdVrr0BmZmZmZjiwQAAAAAAAfLJAAAAAAAC5sEAlSZIkSViuQGZmZmZmA7BAt23btm2fsUA=\",\"dtype\":\"float64\",\"shape\":[58]},\"weight_min\":{\"__ndarray__\":\"AAAAAACYoEAAAAAAANykQAAAAAAAGKFAAAAAAAB0oUAAAAAAANagQAAAAAAAGKRAAAAAAADMn0AAAAAAADKkQAAAAAAANJlAAAAAAADsnUAAAAAAACydQAAAAAAAIJxAAAAAAACAm0AAAAAAAMieQAAAAAAAZKlAAAAAAACaoEAAAAAAAOCgQAAAAAAATqZAAAAAAACWoEAAAAAAADSgQAAAAAAATJ1AAAAAAAD4o0AAAAAAAIScQAAAAAAAjqJAAAAAAAAEn0AAAAAAAMSZQAAAAAAAiKNAAAAAAACEnEAAAAAAAGimQAAAAAAAHKZAAAAAAACUq0AAAAAAAJSkQAAAAAAAAqdAAAAAAABGpEAAAAAAABKrQAAAAAAA/qVAAAAAAABAqkAAAAAAADakQAAAAAAA2K1AAAAAAABQo0AAAAAAABilQAAAAAAApKpAAAAAAAAipkAAAAAAAFqpQAAAAAAA7qVAAAAAAACIqEAAAAAAANKqQAAAAAAAHKhAAAAAAAB4rkAAAAAAACqpQAAAAAAAyK5AAAAAAACOqkAAAAAAAMKoQAAAAAAAfLJAAAAAAADkq0AAAAAAAEqqQAAAAAAA2KpAAAAAAAB8sEA=\",\"dtype\":\"float64\",\"shape\":[58]},\"weight_std\":{\"__ndarray__\":\"udhs7B3ybkDJgFML7m5tQHQOAgl5pGtAv/NEO9EscECVL0zdOvxxQAAAAAAAAPh/wW0nP4+ucEAAAAAAAAD4f4n/RC1ucG5A26bUH9Bbb0DEkgnxpclmQAu85vvhr3NAil6Fh86ebEAB/frlgRdxQAAAAAAAAPh/Ym4SkDXLUEAAAAAAAAD4fwAAAAAAAPh/hHa7rCxqU0BUF7ym5216QOLeK9lru29Aonh3zZCSVkAlPmxrOcBqQMUzbKCqNmZA0OtrWjrzZUD+ciC3ut5yQAAAAAAAAPh/lJBdHgunZkBfQzaGKodeQBBIF4CUNlVAAAAAAAAA+H8Te53iBNhzQIXSN0vAlXNAusp/48JReEAAAAAAAAD4fzG8WqBzuE5A2ZIlQU44Y0BgQC8tFi9xQAAAAAAAAPh/cuB7YIy9eECVjh7ootdrQAAAAAAAAPh/FPo7/E0Pc0D4jA+ZxktoQK9EMr99CFBAwAofAMZILEBrziyk/kduQPlKCOFf64NAEEgXgJQ2dUCHC8hBP/B5QLvciQn9eXRA2jl5n4Y0e0B/cf0JJxl+QAAAAAAAAPh/adjqBGYEgUBsLGuRdgh9QAyvRS0PL3dAzax/B+OCc0A=\",\"dtype\":\"float64\",\"shape\":[58]}},\"selected\":{\"id\":\"1128\",\"type\":\"Selection\"},\"selection_policy\":{\"id\":\"1127\",\"type\":\"UnionRenderers\"}},\"id\":\"1084\",\"type\":\"ColumnDataSource\"},{\"attributes\":{\"fill_color\":{\"field\":\"cyl_mfr\",\"transform\":{\"id\":\"1106\",\"type\":\"CategoricalColorMapper\"}},\"line_color\":{\"value\":\"white\"},\"top\":{\"field\":\"mpg_mean\"},\"width\":{\"value\":1},\"x\":{\"field\":\"cyl_mfr\"}},\"id\":\"1108\",\"type\":\"VBar\"},{\"attributes\":{\"callback\":null,\"factors\":[[\"3\",\"mazda\"],[\"4\",\"amc\"],[\"4\",\"audi\"],[\"4\",\"bmw\"],[\"4\",\"buick\"],[\"4\",\"capri\"],[\"4\",\"chevrolet\"],[\"4\",\"chrysler\"],[\"4\",\"datsun\"],[\"4\",\"dodge\"],[\"4\",\"fiat\"],[\"4\",\"ford\"],[\"4\",\"honda\"],[\"4\",\"mazda\"],[\"4\",\"mercedes\"],[\"4\",\"mercury\"],[\"4\",\"nissan\"],[\"4\",\"oldsmobile\"],[\"4\",\"opel\"],[\"4\",\"peugeot\"],[\"4\",\"plymouth\"],[\"4\",\"pontiac\"],[\"4\",\"renault\"],[\"4\",\"saab\"],[\"4\",\"subaru\"],[\"4\",\"toyota\"],[\"4\",\"triumph\"],[\"4\",\"volkswagen\"],[\"4\",\"volvo\"],[\"5\",\"audi\"],[\"5\",\"mercedes\"],[\"6\",\"amc\"],[\"6\",\"buick\"],[\"6\",\"chevrolet\"],[\"6\",\"chrysler\"],[\"6\",\"datsun\"],[\"6\",\"dodge\"],[\"6\",\"ford\"],[\"6\",\"mercedes\"],[\"6\",\"mercury\"],[\"6\",\"oldsmobile\"],[\"6\",\"peugeot\"],[\"6\",\"plymouth\"],[\"6\",\"pontiac\"],[\"6\",\"toyota\"],[\"6\",\"volvo\"],[\"8\",\"amc\"],[\"8\",\"buick\"],[\"8\",\"cadillac\"],[\"8\",\"chevrolet\"],[\"8\",\"chrysler\"],[\"8\",\"dodge\"],[\"8\",\"ford\"],[\"8\",\"hi\"],[\"8\",\"mercury\"],[\"8\",\"oldsmobile\"],[\"8\",\"plymouth\"],[\"8\",\"pontiac\"]]},\"id\":\"1088\",\"type\":\"FactorRange\"},{\"attributes\":{\"fill_color\":{\"field\":\"cyl_mfr\",\"transform\":{\"id\":\"1106\",\"type\":\"CategoricalColorMapper\"}},\"line_color\":{\"value\":\"darkgrey\"},\"top\":{\"field\":\"mpg_mean\"},\"width\":{\"value\":1},\"x\":{\"field\":\"cyl_mfr\"}},\"id\":\"1110\",\"type\":\"VBar\"},{\"attributes\":{\"dimension\":1,\"ticker\":{\"id\":\"1101\",\"type\":\"BasicTicker\"}},\"id\":\"1104\",\"type\":\"Grid\"},{\"attributes\":{},\"id\":\"1126\",\"type\":\"BasicTickFormatter\"},{\"attributes\":{\"data_source\":{\"id\":\"1084\",\"type\":\"ColumnDataSource\"},\"glyph\":{\"id\":\"1108\",\"type\":\"VBar\"},\"hover_glyph\":{\"id\":\"1110\",\"type\":\"VBar\"},\"muted_glyph\":null,\"nonselection_glyph\":{\"id\":\"1109\",\"type\":\"VBar\"},\"selection_glyph\":null,\"view\":{\"id\":\"1112\",\"type\":\"CDSView\"}},\"id\":\"1111\",\"type\":\"GlyphRenderer\"},{\"attributes\":{\"grid_line_color\":null,\"ticker\":{\"id\":\"1097\",\"type\":\"CategoricalTicker\"}},\"id\":\"1099\",\"type\":\"Grid\"}],\"root_ids\":[\"1085\"]},\"title\":\"Bokeh Application\",\"version\":\"1.4.0\"}};\n",
              "  var render_items = [{\"docid\":\"97750b43-a17f-4250-8600-a55c4c721700\",\"roots\":{\"1085\":\"e538745c-ef5c-4475-9b22-26e1ea112e00\"}}];\n",
              "  root.Bokeh.embed.embed_items_notebook(docs_json, render_items);\n",
              "\n",
              "  }\n",
              "  if (root.Bokeh !== undefined) {\n",
              "    embed_document(root);\n",
              "  } else {\n",
              "    var attempts = 0;\n",
              "    var timer = setInterval(function(root) {\n",
              "      if (root.Bokeh !== undefined) {\n",
              "        clearInterval(timer);\n",
              "        embed_document(root);\n",
              "      } else {\n",
              "        attempts++;\n",
              "        if (attempts > 100) {\n",
              "          clearInterval(timer);\n",
              "          console.log(\"Bokeh: ERROR: Unable to run BokehJS code because BokehJS library is missing\");\n",
              "        }\n",
              "      }\n",
              "    }, 10, root)\n",
              "  }\n",
              "})(window);"
            ],
            "application/vnd.bokehjs_exec.v0+json": ""
          },
          "metadata": {
            "tags": [],
            "application/vnd.bokehjs_exec.v0+json": {
              "id": "1085"
            }
          }
        }
      ]
    },
    {
      "cell_type": "markdown",
      "metadata": {
        "id": "XoO8kmzJktKb"
      },
      "source": [
        "## Other Libraries\n",
        "\n",
        "\n",
        "1. [OpenCV](https://opencv-python-tutroals.readthedocs.io/en/latest/index.html): Computer Vision/ Image Manipulation\n",
        "2. [Pillow](https://pillow.readthedocs.io/en/stable/): Image Manipulation\n",
        "3. [Networkx](https://networkx.github.io/): Network analysis\n",
        "4. [Beautiful Soup](https://opencv-python-tutroals.readthedocs.io/en/latest/index.html) / [Request](https://requests.readthedocs.io/en/master/): Web scrapping/ data acquisition"
      ]
    },
    {
      "cell_type": "markdown",
      "metadata": {
        "id": "d2mfdJiXkjqc"
      },
      "source": [
        "# Example Scripts\n",
        "Python growth in popularity has lead to the development of a wide range of libraries. The application of these libraries ranges from machine learning and data processing to  to image manipulation"
      ]
    },
    {
      "cell_type": "markdown",
      "metadata": {
        "id": "w_qgNXxh7yuj"
      },
      "source": [
        "#TO BE COMPLETED"
      ]
    },
    {
      "cell_type": "code",
      "metadata": {
        "id": "7dYHp32Skl8k"
      },
      "source": [],
      "execution_count": null,
      "outputs": []
    }
  ]
}