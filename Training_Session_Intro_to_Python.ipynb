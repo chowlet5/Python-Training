{
  "nbformat": 4,
  "nbformat_minor": 0,
  "metadata": {
    "colab": {
      "provenance": [],
      "authorship_tag": "ABX9TyMgjfNSCwT40DibOalTUAhl"
    },
    "kernelspec": {
      "name": "python3",
      "display_name": "Python 3"
    }
  },
  "cells": [
    {
      "cell_type": "markdown",
      "metadata": {
        "id": "5E7bLrvo29hO"
      },
      "source": [
        "#Introduction To Python\n",
        "\n",
        "The following document is a summary of the introduction to Python training session. It cover topics such as initial installation/setup, basic opterations, Numpy and Pandas and will be accompanied with examples."
      ]
    },
    {
      "cell_type": "markdown",
      "metadata": {
        "id": "eJrAyGh-9sxW"
      },
      "source": [
        "##Setting up your Environment\n",
        "**Using the GUI**:\n",
        "1. Using Anaconda Navigator, navigate to the \"Environments\" tab on the left hand side\n",
        "2. Create a new Python environment.\n",
        "3. Load your Python environment by clicking on the environment name\n",
        "4. To install a new package, change the package list to \"Not installed\" using the drop-down list.\n",
        "5. Search for \"numpy\" and select the box to the left of numpy name.\n",
        "6. Search for \"pandas\" and select the box to the left of pandas name.\n",
        "7. Apply the changes by pressing the green \"Apply\" button at the bottom right.\n",
        "\n",
        "**Using the Prompt**:\n",
        "1. Press the green arrow beside your Python environment's name. If you do not see the arrow, click on the environment name to loaded it again.\n",
        "2. To install a new package, we will use the following command: `conda install jupyterlab`\n",
        "3. To install packages based on a requirements.txt file, we will use the following command:  `conda install --file requirements.txt`"
      ]
    },
    {
      "cell_type": "markdown",
      "metadata": {
        "id": "kAb2jFo5A9D8"
      },
      "source": [
        "##Basic Operations: Datatypes\n",
        "\n",
        "Python support various datatypes such as integers, float, boolean and strings. Python determines the datatype that you assign to a variable, therefore you do not need to declare the variable datatype.\n",
        "\n",
        "You can check what datatype a variable is using the `type()` function"
      ]
    },
    {
      "cell_type": "code",
      "metadata": {
        "id": "hlG7Dh74B-Z_",
        "colab": {
          "base_uri": "https://localhost:8080/",
          "height": 85
        },
        "outputId": "5cc4088f-0132-48b5-f9a0-f7b0a04d0e78"
      },
      "source": [
        "myInt = 3  #integer\n",
        "print(type(myInt))\n",
        "\n",
        "myFloat = 1.5 #float\n",
        "print(type(myFloat))\n",
        "\n",
        "myBoolean = True #boolean\n",
        "print(type(myBoolean))\n",
        "\n",
        "myString = \"Hello World\"\n",
        "print(type(myString))"
      ],
      "execution_count": null,
      "outputs": [
        {
          "output_type": "stream",
          "text": [
            "<class 'int'>\n",
            "<class 'float'>\n",
            "<class 'bool'>\n",
            "<class 'str'>\n"
          ],
          "name": "stdout"
        }
      ]
    },
    {
      "cell_type": "markdown",
      "metadata": {
        "id": "Ix8lxS0cDluo"
      },
      "source": [
        "##Basic Operations: Variables\n",
        "\n",
        "Variables are containter for storing data values. As stated perviously, Python has no command for declaring a variable. This means that variables can change datatypes."
      ]
    },
    {
      "cell_type": "code",
      "metadata": {
        "id": "0DAqBFQyiAvx"
      },
      "source": [
        "myVariable = 3.0   #Float Datatype\n",
        "\n",
        "myVariable = 'Python' #  The variable is now a String Datatype"
      ],
      "execution_count": null,
      "outputs": []
    },
    {
      "cell_type": "markdown",
      "metadata": {
        "id": "HhJt-TNi3lLK"
      },
      "source": [
        "##Basic Operations: Lists\n",
        "\n",
        "Lists are a common data structure in Python. They store ordered sequence of elements or objects. Square brackets are used to define and list and the each element is separated by a comma:"
      ]
    },
    {
      "cell_type": "code",
      "metadata": {
        "id": "tN2sZ0rF4R1D",
        "colab": {
          "base_uri": "https://localhost:8080/",
          "height": 34
        },
        "outputId": "a44d1551-8163-4d3d-ab9f-382eb596b891"
      },
      "source": [
        "myList = [1,4,9,16,25]\n",
        "\n",
        "print(myList)"
      ],
      "execution_count": null,
      "outputs": [
        {
          "output_type": "stream",
          "text": [
            "[1, 4, 9, 16, 25]\n"
          ],
          "name": "stdout"
        }
      ]
    },
    {
      "cell_type": "markdown",
      "metadata": {
        "id": "23sDKPW94rNc"
      },
      "source": [
        "A single list can contain different datatypes:"
      ]
    },
    {
      "cell_type": "code",
      "metadata": {
        "id": "7KgUgj6l415l",
        "colab": {
          "base_uri": "https://localhost:8080/",
          "height": 34
        },
        "outputId": "b01bb2bf-ddfd-494c-eae2-bd063c9fdf73"
      },
      "source": [
        "myList = [myInt,myFloat,myBoolean,myString]\n",
        "print(myList)"
      ],
      "execution_count": null,
      "outputs": [
        {
          "output_type": "stream",
          "text": [
            "[3, 1.5, True, 'Hello World']\n"
          ],
          "name": "stdout"
        }
      ]
    },
    {
      "cell_type": "markdown",
      "metadata": {
        "id": "1lttFG9qGdpI"
      },
      "source": [
        "You can create an empty list simply by using two square brackets [] with no elements."
      ]
    },
    {
      "cell_type": "code",
      "metadata": {
        "id": "mGsqF2heGtm5",
        "colab": {
          "base_uri": "https://localhost:8080/",
          "height": 34
        },
        "outputId": "aadbea09-9c73-46d6-96d1-daed5822999d"
      },
      "source": [
        "myEmptyList = []\n",
        "myEmptyList"
      ],
      "execution_count": null,
      "outputs": [
        {
          "output_type": "execute_result",
          "data": {
            "text/plain": [
              "[]"
            ]
          },
          "metadata": {
            "tags": []
          },
          "execution_count": 19
        }
      ]
    },
    {
      "cell_type": "markdown",
      "metadata": {
        "id": "1Ebr_OqmBfGW"
      },
      "source": [
        "###**Indexing**\n",
        "To access the data, you need to index notation. Python starts its index at 0 which represents the left side of a list. To access data, you indicate the data's positional location using square brackets and the index value as shown below."
      ]
    },
    {
      "cell_type": "code",
      "metadata": {
        "id": "PqmKF8QyBzWK",
        "colab": {
          "base_uri": "https://localhost:8080/",
          "height": 34
        },
        "outputId": "cab319e5-db41-429a-ad40-a591c485c9c2"
      },
      "source": [
        "myList = [1,4,9,16,25]\n",
        "\n",
        "myList[2]"
      ],
      "execution_count": null,
      "outputs": [
        {
          "output_type": "execute_result",
          "data": {
            "text/plain": [
              "9"
            ]
          },
          "metadata": {
            "tags": []
          },
          "execution_count": 10
        }
      ]
    },
    {
      "cell_type": "markdown",
      "metadata": {
        "id": "x7d4Fbv9CIUi"
      },
      "source": [
        "Using a negative value when indexing means you are counting from the right side (or counting the postion from the end of the list). It should be noted that since -0 is the same as 0, the negative indices start from -1."
      ]
    },
    {
      "cell_type": "markdown",
      "source": [],
      "metadata": {
        "id": "0ZGUFt2Bx_1g"
      }
    },
    {
      "cell_type": "code",
      "metadata": {
        "id": "lVmxMHMGCtod",
        "colab": {
          "base_uri": "https://localhost:8080/",
          "height": 34
        },
        "outputId": "d786c17b-1980-410e-ec22-42e1df353a2f"
      },
      "source": [
        "print(myList[-1])"
      ],
      "execution_count": null,
      "outputs": [
        {
          "output_type": "stream",
          "text": [
            "25\n"
          ],
          "name": "stdout"
        }
      ]
    },
    {
      "cell_type": "markdown",
      "metadata": {
        "id": "AHVy152lC7e1"
      },
      "source": [
        "###**Slicing**\n",
        "Slicing is also useful when you want to extract a subset of elements from a list at once. When slicing, you indicate the starting index, a colon and the ending index [start:end]. The starting index is include in the slice while the end index is excluded."
      ]
    },
    {
      "cell_type": "code",
      "metadata": {
        "id": "dF_vp1ImDI8-",
        "colab": {
          "base_uri": "https://localhost:8080/",
          "height": 34
        },
        "outputId": "c0691842-df98-449b-9f2d-e4d81e5206f7"
      },
      "source": [
        "print(myList[0:2])"
      ],
      "execution_count": null,
      "outputs": [
        {
          "output_type": "stream",
          "text": [
            "[1, 4]\n"
          ],
          "name": "stdout"
        }
      ]
    },
    {
      "cell_type": "markdown",
      "metadata": {
        "id": "A3f5Ejn4EBc6"
      },
      "source": [
        "You remove the starting or ending index (not both) if you want to grab the start/end of the list. For example:"
      ]
    },
    {
      "cell_type": "code",
      "metadata": {
        "id": "iHgjuibCEc-E",
        "colab": {
          "base_uri": "https://localhost:8080/",
          "height": 51
        },
        "outputId": "e268c723-a245-4ec9-9546-0d2213d7f7cc"
      },
      "source": [
        "# Grab all elements after index 1\n",
        "\n",
        "print(myList[1:])  # not indicating the end index means it will continue to the end of the list\n",
        "\n",
        "# Grab all elements before 3 index\n",
        "\n",
        "print(myList[:3])  # not indicating the start index means it start at the beginning of the list"
      ],
      "execution_count": null,
      "outputs": [
        {
          "output_type": "stream",
          "text": [
            "[4, 9, 16, 25]\n",
            "[1, 4, 9]\n"
          ],
          "name": "stdout"
        }
      ]
    },
    {
      "cell_type": "markdown",
      "metadata": {
        "id": "m0SrsWHvE_0-"
      },
      "source": [
        "You can also use negative values for the indexing"
      ]
    },
    {
      "cell_type": "code",
      "metadata": {
        "id": "ZDul3bt0E-0Z",
        "colab": {
          "base_uri": "https://localhost:8080/",
          "height": 51
        },
        "outputId": "1e96f25d-0d65-4c5a-d723-35f1d76d9005"
      },
      "source": [
        "# Grab the last 3 elements\n",
        "\n",
        "print(myList[-3:])\n",
        "\n",
        "# Do not include the last element\n",
        "\n",
        "print(myList[:-1])"
      ],
      "execution_count": null,
      "outputs": [
        {
          "output_type": "stream",
          "text": [
            "[9, 16, 25]\n",
            "[1, 4, 9, 16]\n"
          ],
          "name": "stdout"
        }
      ]
    },
    {
      "cell_type": "markdown",
      "metadata": {
        "id": "OFNpbx-JFpKf"
      },
      "source": [
        "Lists are mutable objects which means their content can be modified after the list has been defined."
      ]
    },
    {
      "cell_type": "code",
      "metadata": {
        "id": "C0lmk_EyF5lF",
        "colab": {
          "base_uri": "https://localhost:8080/",
          "height": 34
        },
        "outputId": "d63298a5-d93f-4a5e-a80c-ac8da723536f"
      },
      "source": [
        "myList[2]=36\n",
        "myList"
      ],
      "execution_count": null,
      "outputs": [
        {
          "output_type": "execute_result",
          "data": {
            "text/plain": [
              "[1, 4, 36, 16, 25]"
            ]
          },
          "metadata": {
            "tags": []
          },
          "execution_count": 16
        }
      ]
    },
    {
      "cell_type": "markdown",
      "metadata": {
        "id": "Y34j6kyqGAih"
      },
      "source": [
        "Lists also support concatentation which means you can add lists together:"
      ]
    },
    {
      "cell_type": "code",
      "metadata": {
        "id": "i7LhLr0bGUBl",
        "colab": {
          "base_uri": "https://localhost:8080/",
          "height": 34
        },
        "outputId": "70a88412-dee9-4079-8d6f-c5a622d093ad"
      },
      "source": [
        "myList+[49,64,81]"
      ],
      "execution_count": null,
      "outputs": [
        {
          "output_type": "execute_result",
          "data": {
            "text/plain": [
              "[1, 4, 36, 16, 25, 49, 64, 81]"
            ]
          },
          "metadata": {
            "tags": []
          },
          "execution_count": 17
        }
      ]
    },
    {
      "cell_type": "markdown",
      "metadata": {
        "id": "LCHGGpyHG2nw"
      },
      "source": [
        "New elements can be added to the end of a list using the `append()` method:"
      ]
    },
    {
      "cell_type": "code",
      "metadata": {
        "id": "fuJJZYowG-YP",
        "colab": {
          "base_uri": "https://localhost:8080/",
          "height": 34
        },
        "outputId": "6fdde864-4ebc-43c9-cc64-6359d2a33c94"
      },
      "source": [
        "myList.append(144)\n",
        "myList"
      ],
      "execution_count": null,
      "outputs": [
        {
          "output_type": "execute_result",
          "data": {
            "text/plain": [
              "[1, 4, 36, 16, 25, 144, 144]"
            ]
          },
          "metadata": {
            "tags": []
          },
          "execution_count": 21
        }
      ]
    },
    {
      "cell_type": "markdown",
      "metadata": {
        "id": "arfOlWmeO1_c"
      },
      "source": [
        "You can nest lists inside of a list."
      ]
    },
    {
      "cell_type": "code",
      "metadata": {
        "id": "SoajvPZMPXiS",
        "colab": {
          "base_uri": "https://localhost:8080/",
          "height": 68
        },
        "outputId": "e1f704b1-6eb3-46d9-c5b0-90191ed553e9"
      },
      "source": [
        "a = [0,1,2]\n",
        "b =[3,4,5]\n",
        "nestList = [a,b]\n",
        "print(nestList)\n",
        "\n",
        "print(nestList[0])  # First index looks at the outside list\n",
        "\n",
        "print(nestList[0][1])  # Section index looks at the inside list"
      ],
      "execution_count": null,
      "outputs": [
        {
          "output_type": "stream",
          "text": [
            "[[0, 1, 2], [3, 4, 5]]\n",
            "[0, 1, 2]\n",
            "1\n"
          ],
          "name": "stdout"
        }
      ]
    },
    {
      "cell_type": "markdown",
      "metadata": {
        "id": "8CnKG0pqQAjK"
      },
      "source": [
        "You can check the number of elements in a list using the `len()` function"
      ]
    },
    {
      "cell_type": "code",
      "metadata": {
        "id": "WHC30RDSQNEe",
        "colab": {
          "base_uri": "https://localhost:8080/",
          "height": 34
        },
        "outputId": "de93d2a2-f9b4-410f-8615-3c7d3a741b27"
      },
      "source": [
        "letters = ['a','b','c','d']\n",
        "\n",
        "len(letters)"
      ],
      "execution_count": null,
      "outputs": [
        {
          "output_type": "execute_result",
          "data": {
            "text/plain": [
              "4"
            ]
          },
          "metadata": {
            "tags": []
          },
          "execution_count": 27
        }
      ]
    },
    {
      "cell_type": "markdown",
      "metadata": {
        "id": "sy-9c7ILQeFh"
      },
      "source": [
        "##Basic Operations: Dictionaries\n",
        "\n",
        "Dictionaries is a data structure that stores unordered elements and uses keys as the index values. Keys must be unique (one per dictionary). A dictionaries is define by using curly braces and key:value pairs separated by commas:"
      ]
    },
    {
      "cell_type": "code",
      "metadata": {
        "id": "nM87UAOmQ0l_",
        "colab": {
          "base_uri": "https://localhost:8080/",
          "height": 34
        },
        "outputId": "726f773c-6fc7-481f-d4d1-4af92b628ad5"
      },
      "source": [
        "myDict = {'apple':'red','banana':'yellow','orange':'orange'}\n",
        "\n",
        "print(myDict['banana'])"
      ],
      "execution_count": null,
      "outputs": [
        {
          "output_type": "stream",
          "text": [
            "yellow\n"
          ],
          "name": "stdout"
        }
      ]
    },
    {
      "cell_type": "markdown",
      "metadata": {
        "id": "ugrJGMsLRtFQ"
      },
      "source": [
        "You get a list of the keys in a dictionary using the `keys()` method"
      ]
    },
    {
      "cell_type": "code",
      "metadata": {
        "id": "t2iOgKGRR3at",
        "colab": {
          "base_uri": "https://localhost:8080/",
          "height": 34
        },
        "outputId": "397e3e51-1dbc-4a4c-fbd3-0937801f18df"
      },
      "source": [
        "myDict.keys()"
      ],
      "execution_count": null,
      "outputs": [
        {
          "output_type": "execute_result",
          "data": {
            "text/plain": [
              "dict_keys(['apple', 'banana', 'orange'])"
            ]
          },
          "metadata": {
            "tags": []
          },
          "execution_count": 30
        }
      ]
    },
    {
      "cell_type": "markdown",
      "metadata": {
        "id": "PCtSde5LSXTD"
      },
      "source": [
        "Dictionaries are also mutable and can be change after it has been defined"
      ]
    },
    {
      "cell_type": "code",
      "metadata": {
        "id": "m5yW8HAgSgGI",
        "colab": {
          "base_uri": "https://localhost:8080/",
          "height": 51
        },
        "outputId": "af7553b0-7e5e-49e7-a510-000e9bb40017"
      },
      "source": [
        "myDict['apple'] = 'green'\n",
        "print(myDict)\n",
        "\n",
        "myDict['blueberry'] = 'blue'\n",
        "print(myDict)"
      ],
      "execution_count": null,
      "outputs": [
        {
          "output_type": "stream",
          "text": [
            "{'apple': 'green', 'banana': 'yellow', 'orange': 'orange'}\n",
            "{'apple': 'green', 'banana': 'yellow', 'orange': 'orange', 'blueberry': 'blue'}\n"
          ],
          "name": "stdout"
        }
      ]
    },
    {
      "cell_type": "markdown",
      "metadata": {
        "id": "shUnbHnzS2Rz"
      },
      "source": [
        "##Basic Operations: Other Sequence datatypes\n",
        "\n",
        "Tuples are similar to lists but they cannot be changed. Tuples are define using parentheses ()"
      ]
    },
    {
      "cell_type": "code",
      "metadata": {
        "id": "JcKWZkpLT5YT"
      },
      "source": [
        "myTuple = (1,2,3,4)"
      ],
      "execution_count": null,
      "outputs": []
    },
    {
      "cell_type": "markdown",
      "metadata": {
        "id": "2-O4APw7T-AA"
      },
      "source": [
        "A set is an unordered collection of unique elements:"
      ]
    },
    {
      "cell_type": "code",
      "metadata": {
        "id": "Wp9GEvecUECd",
        "colab": {
          "base_uri": "https://localhost:8080/",
          "height": 34
        },
        "outputId": "7c215f56-6956-4e8c-ad21-b08dabb81610"
      },
      "source": [
        "mySet = set([0,0,1,2,3,32,55,3,32])\n",
        "print(mySet) # The duplicated values have been removed"
      ],
      "execution_count": null,
      "outputs": [
        {
          "output_type": "stream",
          "text": [
            "{0, 1, 2, 3, 32, 55}\n"
          ],
          "name": "stdout"
        }
      ]
    },
    {
      "cell_type": "markdown",
      "metadata": {
        "id": "rHZTFDakUrVI"
      },
      "source": [
        "##Basic Operations: Strings\n",
        "\n",
        "Editing string is useful for automation task, especially when external files are involved. There many different methods which can modified a string:"
      ]
    },
    {
      "cell_type": "code",
      "metadata": {
        "id": "OSSEJK-OV1Eh",
        "colab": {
          "base_uri": "https://localhost:8080/"
        },
        "outputId": "ef4f35c9-baed-4433-81c1-8479636a4992"
      },
      "source": [
        "myString = '  Hello World  '\n",
        "\n",
        "print('myString.lower() does this:' + myString.lower())\n",
        "\n",
        "print('myString.upper() does this:' + myString.upper())\n",
        "\n",
        "print('myString.strip() does this:' + myString.strip())\n",
        "\n",
        "print('myString.find(\"Hello\") does this:')\n",
        "print(myString.find('Hello'))\n",
        "\n",
        "print('myString.replace(\"old\",\"new\") does this:' + myString.replace('Hello','Hi'))\n",
        "\n",
        "myString = 'Hello_World'\n",
        "\n",
        "print(myString.split('_'))\n",
        "\n",
        "myList = ['Hello','World','This','is','a','test']\n",
        "\n",
        "print('_'.join(myList))"
      ],
      "execution_count": null,
      "outputs": [
        {
          "output_type": "stream",
          "name": "stdout",
          "text": [
            "myString.lower() does this:  hello world  \n",
            "myString.upper() does this:  HELLO WORLD  \n",
            "myString.strip() does this:Hello World\n",
            "myString.find(\"Hello\") does this:\n",
            "2\n",
            "myString.replace(\"old\",\"new\") does this:  Hi World  \n",
            "['Hello', 'World']\n",
            "Hello_World_This_is_a_test\n"
          ]
        }
      ]
    },
    {
      "cell_type": "markdown",
      "metadata": {
        "id": "ZgYou6abXpDZ"
      },
      "source": [
        "Strings can also be index and sliced just like a list:"
      ]
    },
    {
      "cell_type": "code",
      "metadata": {
        "id": "S0yW6kLBXwtl",
        "colab": {
          "base_uri": "https://localhost:8080/",
          "height": 51
        },
        "outputId": "5f641b74-cce4-447b-d0e3-65a4fda4a6b3"
      },
      "source": [
        "myString = 'Hello World'\n",
        "\n",
        "print(myString[3])\n",
        "print(myString[5:])"
      ],
      "execution_count": null,
      "outputs": [
        {
          "output_type": "stream",
          "text": [
            "l\n",
            " World\n"
          ],
          "name": "stdout"
        }
      ]
    },
    {
      "cell_type": "markdown",
      "metadata": {
        "id": "98x5OqA1Ykii"
      },
      "source": [
        "Another useful string tool is positional formatting. This lets you embede variables into a string. The two methods we will look at are the **string.format() method** and the **formatted string literal** or **f-string**.\n",
        "\n",
        "**String.format() method** uses curly brackets {} within the string to specify tje location to place the variable and a .format() to specify the variables to place. By default, the order of the variable placement follows the order of the curly brackets."
      ]
    },
    {
      "cell_type": "code",
      "metadata": {
        "id": "CTKfZof8aQra",
        "colab": {
          "base_uri": "https://localhost:8080/",
          "height": 35
        },
        "outputId": "336913a0-c8b6-429b-d5f7-d45c3393b339"
      },
      "source": [
        "'This is an {} of string {}'.format('example','formatting')"
      ],
      "execution_count": null,
      "outputs": [
        {
          "output_type": "execute_result",
          "data": {
            "application/vnd.google.colaboratory.intrinsic+json": {
              "type": "string"
            },
            "text/plain": [
              "'This is an formatting of string example   example'"
            ]
          },
          "metadata": {
            "tags": []
          },
          "execution_count": 47
        }
      ]
    },
    {
      "cell_type": "markdown",
      "metadata": {
        "id": "OCs0JktgbDZA"
      },
      "source": [
        "You can specify the location of the placeholders by placing a number inside the curly brackets:"
      ]
    },
    {
      "cell_type": "code",
      "metadata": {
        "id": "0oF7ztStbUTq",
        "colab": {
          "base_uri": "https://localhost:8080/",
          "height": 35
        },
        "outputId": "c804aacd-d5ac-4622-e13d-acab5a022a7b"
      },
      "source": [
        "'This is an {1} of string {0}'.format('example','formatting') # The variable have been placed in placeholders which matchs their postion in the format method"
      ],
      "execution_count": null,
      "outputs": [
        {
          "output_type": "execute_result",
          "data": {
            "application/vnd.google.colaboratory.intrinsic+json": {
              "type": "string"
            },
            "text/plain": [
              "'This is an formatting of string example'"
            ]
          },
          "metadata": {
            "tags": []
          },
          "execution_count": 48
        }
      ]
    },
    {
      "cell_type": "markdown",
      "metadata": {
        "id": "45LV-lNubkXU"
      },
      "source": [
        "**f-string method** embeds the variable directly into the string by adding the prefix'f' to the string. This method is only available for Python 3.6 or later:"
      ]
    },
    {
      "cell_type": "code",
      "metadata": {
        "id": "EydpcUFFcEFn",
        "colab": {
          "base_uri": "https://localhost:8080/",
          "height": 35
        },
        "outputId": "e1ac7bfe-06cb-459c-925c-882b2402f8bb"
      },
      "source": [
        "city = 'London, ON'\n",
        "university = 'Western University'\n",
        "\n",
        "f'{university} is located in {city}'"
      ],
      "execution_count": null,
      "outputs": [
        {
          "output_type": "execute_result",
          "data": {
            "application/vnd.google.colaboratory.intrinsic+json": {
              "type": "string"
            },
            "text/plain": [
              "'Western University is located in London, ON'"
            ]
          },
          "metadata": {
            "tags": []
          },
          "execution_count": 49
        }
      ]
    },
    {
      "cell_type": "markdown",
      "metadata": {
        "id": "5uVT9RKSfCo5"
      },
      "source": [
        "##Basic Operations: Conditions\n",
        "Python supports the ususal logical conditions from mathematics:\n",
        "\n",
        "*   Equals: `a == b`\n",
        "*   Not Equals: `a != b`\n",
        "*   Less than: `a < b`\n",
        "*   Less than or equal: `a <= b`\n",
        "*   Greater than: `a > b`\n",
        "*   Greater than or equal: `a >= b`\n",
        "\n",
        "These logical conditions are typically used with `if` statements:\n"
      ]
    },
    {
      "cell_type": "code",
      "metadata": {
        "id": "kJFx2jkzgBMg",
        "colab": {
          "base_uri": "https://localhost:8080/",
          "height": 34
        },
        "outputId": "0599bc90-0bc6-4ca1-c4c1-ec3d06465654"
      },
      "source": [
        "x = 10\n",
        "y = 5\n",
        "# Note the colon after the condition statement and the indentation to define the code block to function if the statement is met\n",
        "if x > y:\n",
        "  print('x is greater than y')\n"
      ],
      "execution_count": null,
      "outputs": [
        {
          "output_type": "stream",
          "text": [
            "x is greater than y\n"
          ],
          "name": "stdout"
        }
      ]
    },
    {
      "cell_type": "markdown",
      "metadata": {
        "id": "vbCK5zjvgfos"
      },
      "source": [
        "Python supports two addtional logical operators which combine conditional statements. The `and` operators returns True if both statements are True."
      ]
    },
    {
      "cell_type": "code",
      "metadata": {
        "id": "60Gg6ReXhbH_",
        "colab": {
          "base_uri": "https://localhost:8080/",
          "height": 34
        },
        "outputId": "b5f510e7-30f9-47ef-85b3-d826651814d0"
      },
      "source": [
        "x = 10\n",
        "y = 5\n",
        "z = 2\n",
        "\n",
        "if x>y and y>z:\n",
        "  print('Both statements are True')"
      ],
      "execution_count": null,
      "outputs": [
        {
          "output_type": "stream",
          "text": [
            "Both statements are True\n"
          ],
          "name": "stdout"
        }
      ]
    },
    {
      "cell_type": "markdown",
      "metadata": {
        "id": "cCnR79YChmqD"
      },
      "source": [
        " The `or` operators returns True if one of statements are True."
      ]
    },
    {
      "cell_type": "code",
      "metadata": {
        "id": "A3cEIForh2of",
        "colab": {
          "base_uri": "https://localhost:8080/",
          "height": 34
        },
        "outputId": "f81df622-150d-433e-dd0c-2ce730c47e67"
      },
      "source": [
        "x = 10\n",
        "y = 5\n",
        "z = 2\n",
        "\n",
        "if x > y or y < z:\n",
        "  print('One statements are True')"
      ],
      "execution_count": null,
      "outputs": [
        {
          "output_type": "stream",
          "text": [
            "One statements are True\n"
          ],
          "name": "stdout"
        }
      ]
    },
    {
      "cell_type": "markdown",
      "metadata": {
        "id": "nx7sg-nwiQoX"
      },
      "source": [
        "There are additional operators which are useful for `if statements`\n",
        "\n",
        "The `not` operator reverses the results of an operator.\n",
        "The `is` operator returns True is both variables are the same object.\n",
        "The `in` operator returns True an value is present in a sequence data structure.\n",
        "\n",
        "\n",
        "\n"
      ]
    },
    {
      "cell_type": "code",
      "metadata": {
        "id": "o5jgHYn2m9TK",
        "colab": {
          "base_uri": "https://localhost:8080/",
          "height": 51
        },
        "outputId": "7bf6b9f6-2a94-4dc3-aca2-2c489b98a4c0"
      },
      "source": [
        "#not operator\n",
        "x = 10\n",
        "y = 5\n",
        "\n",
        "if not x<y:\n",
        "  print('x is not less than y')"
      ],
      "execution_count": null,
      "outputs": [
        {
          "output_type": "stream",
          "text": [
            "x is not less than y\n",
            "z is x\n"
          ],
          "name": "stdout"
        }
      ]
    },
    {
      "cell_type": "code",
      "metadata": {
        "id": "AwSqSDL8n3bK"
      },
      "source": [
        "#is operator\n",
        "\n",
        "x = 10\n",
        "y = 5\n",
        "z = x\n",
        "\n",
        "if  x is y:\n",
        "  print('y is x')\n",
        "\n",
        "if  z is x:\n",
        "  print('z is x')"
      ],
      "execution_count": null,
      "outputs": []
    },
    {
      "cell_type": "code",
      "metadata": {
        "id": "M0imoLa4n4Oa",
        "colab": {
          "base_uri": "https://localhost:8080/",
          "height": 34
        },
        "outputId": "16a64669-134a-4758-a7ea-7ff47f3db963"
      },
      "source": [
        "#in operator\n",
        "\n",
        "x = 10\n",
        "y = [1,12,15,9,10]\n",
        "\n",
        "\n",
        "if  x in y:\n",
        "  print('x is in y')\n"
      ],
      "execution_count": null,
      "outputs": [
        {
          "output_type": "stream",
          "text": [
            "x is in y\n"
          ],
          "name": "stdout"
        }
      ]
    },
    {
      "cell_type": "markdown",
      "metadata": {
        "id": "2-bRDQK-pBBA"
      },
      "source": [
        "##Basic Operations: If...Else\n",
        "\n",
        "The `if` statement is used to check a condition and perform a task if the condition is met.\n",
        "\n",
        "The `elif` statement is used to check another condition is the first `if` statement is not performed. You have to have an `if` statement to use the `elif` statement. You can have as many `elif` statements as you need.\n",
        "\n",
        "The `else` statement is used to perform a task is not of the pervious conditions are met."
      ]
    },
    {
      "cell_type": "code",
      "metadata": {
        "id": "vHdhSbKDqkJD",
        "colab": {
          "base_uri": "https://localhost:8080/",
          "height": 34
        },
        "outputId": "4783cf99-6dbe-461a-c99b-defda14a0697"
      },
      "source": [
        "x = 10\n",
        "\n",
        "if x>15:\n",
        "  print('x is greater than 15')\n",
        "elif x>=5:\n",
        "  print('x is greater than 5 but less than 15')\n",
        "else:\n",
        "  print('x is less than or equal to 5')"
      ],
      "execution_count": null,
      "outputs": [
        {
          "output_type": "stream",
          "text": [
            "x is greater than 5 but less than 15\n"
          ],
          "name": "stdout"
        }
      ]
    },
    {
      "cell_type": "markdown",
      "metadata": {
        "id": "Lj0-xlO7sQAj"
      },
      "source": [
        "##Basic Operations: Loops\n",
        "Python has two main loop commands: `while` and `for` loops.\n",
        "\n",
        "`while` loops executes a code block as long as a condition is True:"
      ]
    },
    {
      "cell_type": "code",
      "metadata": {
        "id": "j2e9goHrs3-v",
        "colab": {
          "base_uri": "https://localhost:8080/",
          "height": 85
        },
        "outputId": "967aff95-98b1-4756-d29e-3bede1f862bc"
      },
      "source": [
        "i = 1\n",
        "\n",
        "while i<5:\n",
        "  print(i)\n",
        "  i+=1"
      ],
      "execution_count": null,
      "outputs": [
        {
          "output_type": "stream",
          "text": [
            "1\n",
            "2\n",
            "3\n",
            "4\n"
          ],
          "name": "stdout"
        }
      ]
    },
    {
      "cell_type": "markdown",
      "metadata": {
        "id": "pSLUca2BtCbf"
      },
      "source": [
        "`for` loop iterates over a sequence data structure (list,tuple,string,dictionary,set)."
      ]
    },
    {
      "cell_type": "code",
      "metadata": {
        "id": "xXycgmxxtl-C",
        "colab": {
          "base_uri": "https://localhost:8080/",
          "height": 119
        },
        "outputId": "75f74d1a-f093-490b-adc3-eef8e990a0ca"
      },
      "source": [
        "myList = [0,1,2,3,4,5]\n",
        "\n",
        "for i in myList:\n",
        "  print(i)"
      ],
      "execution_count": null,
      "outputs": [
        {
          "output_type": "stream",
          "text": [
            "0\n",
            "1\n",
            "2\n",
            "3\n",
            "4\n",
            "5\n"
          ],
          "name": "stdout"
        }
      ]
    },
    {
      "cell_type": "markdown",
      "metadata": {
        "id": "jNikyeTztiqt"
      },
      "source": [
        "The `range()` function can used to generate an arithmetic progression. Note that the number you provide is excluded from the \"list\""
      ]
    },
    {
      "cell_type": "code",
      "metadata": {
        "id": "_UWxfDy_twwM",
        "colab": {
          "base_uri": "https://localhost:8080/",
          "height": 102
        },
        "outputId": "9b811a4a-e1ba-49ec-99e8-3a3ec408eed7"
      },
      "source": [
        "for i in range(5):\n",
        "  print(i)"
      ],
      "execution_count": null,
      "outputs": [
        {
          "output_type": "stream",
          "text": [
            "0\n",
            "1\n",
            "2\n",
            "3\n",
            "4\n"
          ],
          "name": "stdout"
        }
      ]
    },
    {
      "cell_type": "markdown",
      "metadata": {
        "id": "nqPwQK4Puszd"
      },
      "source": [
        "##Basic Operations: Continue and Break\n",
        "Continue and break statements can be useful when interacting with loops.\n",
        "\n",
        "`continue` is used to skip the execution of the current iteration of the loop:\n"
      ]
    },
    {
      "cell_type": "code",
      "metadata": {
        "id": "QCK3W_CnvD1_",
        "colab": {
          "base_uri": "https://localhost:8080/",
          "height": 102
        },
        "outputId": "aef1f31d-fc54-4ebd-f8b7-c85077e03d04"
      },
      "source": [
        "for x in range(10):\n",
        "  #Skip if the number is even (using the modulus operator)\n",
        "  if x % 2 ==0:\n",
        "    continue\n",
        "  print(x)"
      ],
      "execution_count": null,
      "outputs": [
        {
          "output_type": "stream",
          "text": [
            "1\n",
            "3\n",
            "5\n",
            "7\n",
            "9\n"
          ],
          "name": "stdout"
        }
      ]
    },
    {
      "cell_type": "markdown",
      "metadata": {
        "id": "D0V337W_vDJm"
      },
      "source": [
        "`break` is used to terminate the loop:"
      ]
    },
    {
      "cell_type": "code",
      "metadata": {
        "id": "IZycJzBtvgXK",
        "colab": {
          "base_uri": "https://localhost:8080/",
          "height": 85
        },
        "outputId": "8e88004d-82f7-4064-a720-8876a9f22cfd"
      },
      "source": [
        "for x in range(10):\n",
        "  #end loop if number is ==4\n",
        "  if x ==4:\n",
        "    break\n",
        "  print(x)"
      ],
      "execution_count": null,
      "outputs": [
        {
          "output_type": "stream",
          "text": [
            "0\n",
            "1\n",
            "2\n",
            "3\n"
          ],
          "name": "stdout"
        }
      ]
    },
    {
      "cell_type": "markdown",
      "metadata": {
        "id": "eSYzfiUYwegC"
      },
      "source": [
        "##Basic Operations: Functions\n",
        "Functions are a block code that only runs when it is called. You can pass data, known as parameters into a function and the function can return data as a result. Functions are useful for code re-usability and improved readability\n",
        "\n",
        "You create a function by using the `def` keyword."
      ]
    },
    {
      "cell_type": "code",
      "metadata": {
        "id": "VrgSQIxaxFYh"
      },
      "source": [
        "def myFunction():        # This function does not have any parameters or return a result\n",
        "  print('This is my function')\n",
        "\n",
        "def myAddFunction(x,y):        # This function has two parameters and return a result\n",
        "  addition = x+y\n",
        "  return addition"
      ],
      "execution_count": null,
      "outputs": []
    },
    {
      "cell_type": "code",
      "metadata": {
        "id": "p6ojQ0T5xj1T",
        "colab": {
          "base_uri": "https://localhost:8080/",
          "height": 34
        },
        "outputId": "91c60fe1-0dcb-47d8-885c-c64b67edf3f6"
      },
      "source": [
        "myFunction()"
      ],
      "execution_count": null,
      "outputs": [
        {
          "output_type": "stream",
          "text": [
            "This is my function\n"
          ],
          "name": "stdout"
        }
      ]
    },
    {
      "cell_type": "code",
      "metadata": {
        "id": "SXOXDFySxllG",
        "colab": {
          "base_uri": "https://localhost:8080/",
          "height": 34
        },
        "outputId": "dd3f2c77-0999-4d92-d6eb-09953987afd9"
      },
      "source": [
        "answer = myAddFunction(1,5)\n",
        "print(answer)"
      ],
      "execution_count": null,
      "outputs": [
        {
          "output_type": "stream",
          "text": [
            "6\n"
          ],
          "name": "stdout"
        }
      ]
    },
    {
      "cell_type": "markdown",
      "metadata": {
        "id": "wuNYwxzGxxDR"
      },
      "source": [
        "##Basic Operations: Import\n",
        "Modules need to be imported to be used by Python. In your script, it is common to place all of your imports at the top of your script for improved readability.\n",
        "\n",
        "Use the `import` keyword to import a module:"
      ]
    },
    {
      "cell_type": "code",
      "metadata": {
        "id": "5FLoW2iKxvOK",
        "colab": {
          "base_uri": "https://localhost:8080/",
          "height": 34
        },
        "outputId": "7cecdfea-19d2-4483-f1ea-59b25eeb47b5"
      },
      "source": [
        "import math\n",
        "\n",
        "math.sqrt(9)"
      ],
      "execution_count": null,
      "outputs": [
        {
          "output_type": "execute_result",
          "data": {
            "text/plain": [
              "3.0"
            ]
          },
          "metadata": {
            "tags": []
          },
          "execution_count": 75
        }
      ]
    },
    {
      "cell_type": "markdown",
      "metadata": {
        "id": "selCpfeXyjct"
      },
      "source": [
        "You can import a specific function from a module using the `from` keyword with the `import` keyword:"
      ]
    },
    {
      "cell_type": "code",
      "metadata": {
        "id": "oAWEiXtGyz-O",
        "colab": {
          "base_uri": "https://localhost:8080/",
          "height": 34
        },
        "outputId": "b110b712-672a-4ef4-a761-9df9b3509297"
      },
      "source": [
        "from scipy.optimize import minimize\n",
        "\n",
        "type(minimize) #minimize is a function which is available"
      ],
      "execution_count": null,
      "outputs": [
        {
          "output_type": "execute_result",
          "data": {
            "text/plain": [
              "function"
            ]
          },
          "metadata": {
            "tags": []
          },
          "execution_count": 79
        }
      ]
    },
    {
      "cell_type": "markdown",
      "metadata": {
        "id": "4ZgNtXU-zcnf"
      },
      "source": [
        "It is possible to modify the name of an imported module using the `as` keyword. This is useful two modules share the same name or you want to shorten the module's name:"
      ]
    },
    {
      "cell_type": "code",
      "metadata": {
        "id": "TdzA8jkcztqA",
        "colab": {
          "base_uri": "https://localhost:8080/",
          "height": 282
        },
        "outputId": "3e3599c6-286e-46d7-b3c5-6f81b097a839"
      },
      "source": [
        "import matplotlib.pyplot as plt #matplotlib.pyplot is now known as plt\n",
        "\n",
        "x = [0,1]\n",
        "y = [0,1]\n",
        "\n",
        "plt.plot(x,y)"
      ],
      "execution_count": null,
      "outputs": [
        {
          "output_type": "execute_result",
          "data": {
            "text/plain": [
              "[<matplotlib.lines.Line2D at 0x7f596c693b00>]"
            ]
          },
          "metadata": {
            "tags": []
          },
          "execution_count": 81
        },
        {
          "output_type": "display_data",
          "data": {
            "image/png": "[encoded data removed]",
            "text/plain": [
              "<Figure size 432x288 with 1 Axes>"
            ]
          },
          "metadata": {
            "tags": [],
            "needs_background": "light"
          }
        }
      ]
    }
  ]
}